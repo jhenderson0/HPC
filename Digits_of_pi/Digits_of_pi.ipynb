{
 "cells": [
  {
   "cell_type": "markdown",
   "id": "90df46f8",
   "metadata": {},
   "source": [
    "# Finding the first 1000 digits of pi quickly"
   ]
  },
  {
   "cell_type": "code",
   "execution_count": 3,
   "id": "be94fc37",
   "metadata": {},
   "outputs": [],
   "source": [
    "from mpmath import mp\n",
    "import math\n",
    "import decimal\n",
    "from time import time\n",
    "import numpy as np\n",
    "import cython\n",
    "import numba\n",
    "import matplotlib.pyplot as plt"
   ]
  },
  {
   "cell_type": "markdown",
   "id": "e4dd8680",
   "metadata": {},
   "source": [
    "## The correct solution"
   ]
  },
  {
   "cell_type": "code",
   "execution_count": 4,
   "id": "4539f264",
   "metadata": {},
   "outputs": [
    {
     "name": "stdout",
     "output_type": "stream",
     "text": [
      "3.1415926535897932384626433832795028841971693993751058209749445923078164062862089986280348253421170679821480865132823066470938446095505822317253594081284811174502841027019385211055596446229489549303819644288109756659334461284756482337867831652712019091456485669234603486104543266482133936072602491412737245870066063155881748815209209628292540917153643678925903600113305305488204665213841469519415116094330572703657595919530921861173819326117931051185480744623799627495673518857527248912279381830119491298336733624406566430860213949463952247371907021798609437027705392171762931767523846748184676694051320005681271452635608277857713427577896091736371787214684409012249534301465495853710507922796892589235420199561121290219608640344181598136297747713099605187072113499999983729780499510597317328160963185950244594553469083026425223082533446850352619311881710100031378387528865875332083814206171776691473035982534904287554687311595628638823537875937519577818577805321712268066130019278766111959092164201989\n"
     ]
    }
   ],
   "source": [
    "mp.dps = 1001  # set number of digits\n",
    "pi_1000 = mp.pi\n",
    "print(pi_1000) # print pi to a thousand places  "
   ]
  },
  {
   "cell_type": "markdown",
   "id": "657fa8f8",
   "metadata": {},
   "source": [
    "### Problems:\n",
    "\n",
    "* How do we store the digits? - we can't store pi as a single number as we can only get 15 decimal places using double precision. Instead we could store a number as a string of characters, and then perform calculations using these. Mpmath can help with the precision but we can't use it with numba\n",
    "\n",
    "\n",
    "* How do we parallelise the code? - If we are using an iterative formula then we can't vectorize the problem as we need to know the previous value to work out the next one.\n",
    "\n"
   ]
  },
  {
   "cell_type": "markdown",
   "id": "46b8525f",
   "metadata": {},
   "source": [
    "## Iteration Algorithms\n",
    "\n",
    "### Bailey–Borwein–Plouffe formula\n",
    "\n",
    "$$\\pi = \\sum_{k=0}^{\\infty} \\left[\\frac{1}{16^k}\\left(\\frac{4}{8k+1}-\\frac{2}{8k+4}-\\frac{1}{8k+5}-\\frac{1}{8k+6}\\right)\\right]$$"
   ]
  },
  {
   "cell_type": "code",
   "execution_count": 5,
   "id": "9c9d7d45",
   "metadata": {},
   "outputs": [],
   "source": [
    "def BBP_pi(n):\n",
    "    \n",
    "    #Set out precision\n",
    "    mp.dps = n\n",
    "    \n",
    "    pi = mp.mpf(0)\n",
    "    for k in range(0, 825):\n",
    "        \n",
    "        t1 = mp.mpf(1/mp.mpf(16**k))\n",
    "        t2 = mp.mpf(4/(mp.mpf(8*k)+1))\n",
    "        t3 = mp.mpf(2/(mp.mpf(8*k)+4))\n",
    "        t4 = mp.mpf(1/(mp.mpf(8*k)+5))\n",
    "        t5 = mp.mpf(1/(mp.mpf(8*k)+6))\n",
    "        \n",
    "        pi += t1*(t2-t3-t4-t5)\n",
    "        \n",
    "    return pi\n",
    "        "
   ]
  },
  {
   "cell_type": "code",
   "execution_count": 6,
   "id": "8e28a7c0",
   "metadata": {},
   "outputs": [
    {
     "name": "stdout",
     "output_type": "stream",
     "text": [
      "Time taken: 0.03343629837036133\n"
     ]
    }
   ],
   "source": [
    "start = time()\n",
    "my_pi = BBP_pi(1000)\n",
    "print(f\"Time taken: {time()-start}\")"
   ]
  },
  {
   "cell_type": "code",
   "execution_count": 7,
   "id": "fd9bc197",
   "metadata": {},
   "outputs": [
    {
     "data": {
      "text/plain": [
       "mpf('3.141592653589793238462643383279502884197169399375105820974944592307816406286208998628034825342117067982148086513282306647093844609550582231725359408128481117450284102701938521105559644622948954930381964428810975665933446128475648233786783165271201909145648566923460348610454326648213393607260249141273724587006606315588174881520920962829254091715364367892590360011330530548820466521384146951941511609433057270365759591953092186117381932611793105118548074462379962749567351885752724891227938183011949129833673362440656643086021394946395224737190702179860943702770539217176293176752384674818467669405132000568127145263560827785771342757789609173637178721468440901224953430146549585371050792279689258923542019956112129021960864034418159813629774771309960518707211349999998372978049951059731732816096318595024459455346908302642522308253344685035261931188171010003137838752886587533208381420617177669147303598253490428755468731159562863882353787593751957781857780532171226806613001927876611195909216420199074')"
      ]
     },
     "execution_count": 7,
     "metadata": {},
     "output_type": "execute_result"
    }
   ],
   "source": [
    "my_pi"
   ]
  },
  {
   "cell_type": "code",
   "execution_count": 8,
   "id": "6123cba7",
   "metadata": {},
   "outputs": [],
   "source": [
    "check_to = 1001\n",
    "assert str(my_pi)[:check_to] == str(pi_1000)[:check_to]"
   ]
  },
  {
   "cell_type": "markdown",
   "id": "35e34a2c",
   "metadata": {},
   "source": [
    "### Chudnovsky algorithm -  the fastest\n",
    "\n",
    "$$\\frac{1}{\\pi} = 12 \\sum_{q=0}^{\\infty}\\frac{(-1)^q(6q)!(545140134q+13591409)}{(3q)!(q!)^3(640320)^{3q+3/2}}$$\n",
    "\n",
    "We can rewrite this as:\n",
    "\n",
    "$$\\frac{426880\\sqrt{10005}}{\\pi} = \\sum_{q=0}^{\\infty}\\frac{(6q)!(545140134q+13591409)}{(3q)!(q!)^3(-262537412640768000)^q} $$\n",
    "\n",
    "Giving the solution to $\\pi$ being:\n",
    "\n",
    "$$\\pi = C\\left(\\sum_{q=0}^{\\infty}\\frac{M_qL_q}{X_q}\\right)^{-1}$$\n",
    "\n",
    "Where:\n",
    "\n",
    "$$C = 426880\\sqrt{10005}$$\n",
    "\n",
    "$$M_q = \\frac{(6q)!}{(3q)!(q!)^3}$$\n",
    "\n",
    "$$L_q = 545140134q+13591409$$\n",
    "\n",
    "$$X_q = (-262537412640768000)^q $$\n",
    "\n",
    "These sub equations can be updated via the following methods:\n",
    "\n",
    "$$L_{q+1} = L_q + 545140134, \\space \\text{With  }L_0 = 13591409$$\n",
    "\n",
    "$$X_{q+1} = X_q \\times (-162537412640768000) \\space \\text{With } X_0 = 1$$\n",
    "\n",
    "$$M_{q+1} = M_q \\left(\\frac{(12q+2)(12q+6)(12q+10)}{(q+1)^3}\\right) \\space \\text{Where } M_0 =1$$\n",
    "\n",
    "We can further optimize the computation of $M_q$ by introducing the term $K_q$:\n",
    "\n",
    "$$K_{q+1} = K_q + 12 \\space \\text{Where } K_0 = -6$$\n",
    "\n",
    "$$M_{q+1} = M_q \\left(\\frac{K_{q+1}^3 - 16K_{q+1}}{(q+1)^3}\\right)$$\n",
    "\n",
    "This produces 14.18 digits of pi per iteration so to get 1000 digits we need at least:"
   ]
  },
  {
   "cell_type": "code",
   "execution_count": 9,
   "id": "873b7146",
   "metadata": {},
   "outputs": [
    {
     "name": "stdout",
     "output_type": "stream",
     "text": [
      "Minimum number of iterations required: 70.52186177715092\n"
     ]
    }
   ],
   "source": [
    "print(f\"Minimum number of iterations required: {1000/14.18}\")"
   ]
  },
  {
   "cell_type": "code",
   "execution_count": 10,
   "id": "75191fca",
   "metadata": {},
   "outputs": [],
   "source": [
    "def chudnovsky_pi(n):\n",
    "    \n",
    "    C = 426880 * mp.mpf(10005).sqrt()\n",
    "    M = X = mp.mpf(1)\n",
    "    L = S = mp.mpf(13591409)\n",
    "    \n",
    "    #Calculate the series\n",
    "    for i in range(1, math.ceil(n/14.18)):\n",
    "        L = mp.mpf(545140134+L)\n",
    "        X = mp.mpf(-262537412640768000*X)\n",
    "        M = mp.mpf(M* ((1728*i*i*i)-(2592*i*i)+(1104*i)-120)/(i*i*i))\n",
    "\n",
    "        S += mp.mpf((M*L) / X)\n",
    "        \n",
    "    pi = C / S\n",
    "    return pi"
   ]
  },
  {
   "cell_type": "code",
   "execution_count": 11,
   "id": "0b34bbcb",
   "metadata": {},
   "outputs": [
    {
     "name": "stdout",
     "output_type": "stream",
     "text": [
      "Time taken: 0.0018208026885986328\n"
     ]
    }
   ],
   "source": [
    "start = time()\n",
    "my_pi = chudnovsky_pi(1000)\n",
    "print(f\"Time taken: {time()-start}\")"
   ]
  },
  {
   "cell_type": "code",
   "execution_count": 12,
   "id": "87607493",
   "metadata": {},
   "outputs": [
    {
     "data": {
      "text/plain": [
       "mpf('3.141592653589793238462643383279502884197169399375105820974944592307816406286208998628034825342117067982148086513282306647093844609550582231725359408128481117450284102701938521105559644622948954930381964428810975665933446128475648233786783165271201909145648566923460348610454326648213393607260249141273724587006606315588174881520920962829254091715364367892590360011330530548820466521384146951941511609433057270365759591953092186117381932611793105118548074462379962749567351885752724891227938183011949129833673362440656643086021394946395224737190702179860943702770539217176293176752384674818467669405132000568127145263560827785771342757789609173637178721468440901224953430146549585371050792279689258923542019956112129021960864034418159813629774771309960518707211349999998372978049951059731732816096318595024459455346908302642522308253344685035261931188171010003137838752886587533208381420617177669147303598253490428755468731159562863882353787593751957781857780532171226806613001927876611195909216420198883')"
      ]
     },
     "execution_count": 12,
     "metadata": {},
     "output_type": "execute_result"
    }
   ],
   "source": [
    "my_pi"
   ]
  },
  {
   "cell_type": "code",
   "execution_count": 13,
   "id": "3819b7bf",
   "metadata": {},
   "outputs": [],
   "source": [
    "assert str(my_pi)[:1001] == str(pi_1000)[:1001]"
   ]
  },
  {
   "cell_type": "markdown",
   "id": "c9de9a4a",
   "metadata": {},
   "source": [
    "## Using Integrals\n",
    "\n",
    "We can use an integral which we know is equal to $\\pi$, such as:\n",
    "\n",
    "$$4\\int _{0}^{1} \\sqrt{1-x^2}\\space dx = \\pi$$"
   ]
  },
  {
   "cell_type": "code",
   "execution_count": 14,
   "id": "e78cbc4e",
   "metadata": {},
   "outputs": [],
   "source": [
    "@numba.njit\n",
    "def f(x):\n",
    "    \n",
    "    return np.sqrt(1-x**2)"
   ]
  },
  {
   "cell_type": "markdown",
   "id": "c0f075ef",
   "metadata": {},
   "source": [
    "We can then numerically integrate this, the beauty of this is we can do it in parallel. We can integrate using the trapezium rule:"
   ]
  },
  {
   "cell_type": "code",
   "execution_count": 15,
   "id": "673fbab7",
   "metadata": {},
   "outputs": [],
   "source": [
    "def integrate_pi(divs):\n",
    "    \n",
    "    #Define our range of x values\n",
    "    x = np.linspace(0,1,divs)\n",
    "    \n",
    "    h = 1/(divs-1)\n",
    "    \n",
    "    #Obtain the function at each x\n",
    "    f_x = f(x)\n",
    "    \n",
    "    #Vectorise the trapezium rule\n",
    "    a = f_x[:divs-1]\n",
    "    b = f_x[1:divs+1] \n",
    "    \n",
    "    A = (a+b)/2*h\n",
    "    \n",
    "    return 4*np.sum(A)"
   ]
  },
  {
   "cell_type": "code",
   "execution_count": 16,
   "id": "4b6a4883",
   "metadata": {},
   "outputs": [
    {
     "name": "stdout",
     "output_type": "stream",
     "text": [
      "Time taken: 0.636005163192749\n",
      "3.1415926164014283\n"
     ]
    }
   ],
   "source": [
    "start = time()\n",
    "my_pi = integrate_pi(100000)\n",
    "print(f\"Time taken: {time()-start}\")\n",
    "print(my_pi)"
   ]
  },
  {
   "cell_type": "markdown",
   "id": "e20e63d0",
   "metadata": {},
   "source": [
    "For this we get a digit of pi per order of magnitude, therefore to obtain 10000 digits, plus the 3, we would need to use $10^{1001}$ intervals - thats not that great. This code can be paralellised quite easily"
   ]
  },
  {
   "cell_type": "markdown",
   "id": "4d47d3a0",
   "metadata": {},
   "source": [
    "## Simulating an experiment\n",
    "\n",
    "We can simulate a scenario where we expect to find the value of pi from some equation of the simulations results. A first attempt is similar to the integration technique:"
   ]
  },
  {
   "cell_type": "code",
   "execution_count": 17,
   "id": "3b9aa23b",
   "metadata": {},
   "outputs": [],
   "source": [
    "def pi_sim(num_points):\n",
    "    \n",
    "    #Generate points between 0,1 in a 2D box\n",
    "    points = np.random.uniform(0,1,(num_points,2))\n",
    "    \n",
    "    #Find out the distance of each point from the origin\n",
    "    dist = np.linalg.norm(points,axis=1)\n",
    "    \n",
    "    #The area of the circle segment is the fraction of points which fall within the a distance of 1\n",
    "    A = len(dist[dist<=1])/num_points\n",
    "    \n",
    "    return 4*A"
   ]
  },
  {
   "cell_type": "code",
   "execution_count": 18,
   "id": "62e797a1",
   "metadata": {},
   "outputs": [
    {
     "name": "stdout",
     "output_type": "stream",
     "text": [
      "Time taken: 0.06726574897766113\n",
      "3.140424\n"
     ]
    }
   ],
   "source": [
    "start = time()\n",
    "my_pi = pi_sim(1000000)\n",
    "print(f\"Time taken: {time()-start}\")\n",
    "print(my_pi)"
   ]
  },
  {
   "cell_type": "markdown",
   "id": "e0196282",
   "metadata": {},
   "source": [
    "## Spigot Algorithm"
   ]
  },
  {
   "cell_type": "code",
   "execution_count": 84,
   "id": "21832638",
   "metadata": {},
   "outputs": [],
   "source": [
    "def gospers_pi_unproven(n):\n",
    "    pi = np.zeros(n)\n",
    "    q,r,t,i = 1, 180, 60, 2\n",
    "    for idx in range(n):\n",
    "        u,y = 3*(3*i+1)*(3*i+2), (q*(27*i-12)+5*r)//(5*t)\n",
    "        pi[idx] = y\n",
    "        q,r,t,i = 10*q*i*(2*i-1),10*u*(q*(5*i-2)+r-y*t),t*u,i+1\n",
    "    return pi\n",
    "        "
   ]
  },
  {
   "cell_type": "code",
   "execution_count": 85,
   "id": "d84ee777",
   "metadata": {},
   "outputs": [
    {
     "name": "stdout",
     "output_type": "stream",
     "text": [
      "Time taken: 0.010991811752319336\n"
     ]
    }
   ],
   "source": [
    "start = time()\n",
    "my_pi = gospers_pi_unproven(1000)\n",
    "print(f\"Time taken: {time()-start}\")"
   ]
  },
  {
   "cell_type": "code",
   "execution_count": 86,
   "id": "de051fb5",
   "metadata": {},
   "outputs": [
    {
     "data": {
      "text/plain": [
       "array([3., 1., 4., 1., 5., 9., 2., 6., 5., 3., 5., 8., 9., 7., 9., 3., 2.,\n",
       "       3., 8., 4., 6., 2., 6., 4., 3., 3., 8., 3., 2., 7., 9., 5., 0., 2.,\n",
       "       8., 8., 4., 1., 9., 7., 1., 6., 9., 3., 9., 9., 3., 7., 5., 1., 0.,\n",
       "       5., 8., 2., 0., 9., 7., 4., 9., 4., 4., 5., 9., 2., 3., 0., 7., 8.,\n",
       "       1., 6., 4., 0., 6., 2., 8., 6., 2., 0., 8., 9., 9., 8., 6., 2., 8.,\n",
       "       0., 3., 4., 8., 2., 5., 3., 4., 2., 1., 1., 7., 0., 6., 7., 9., 8.,\n",
       "       2., 1., 4., 8., 0., 8., 6., 5., 1., 3., 2., 8., 2., 3., 0., 6., 6.,\n",
       "       4., 7., 0., 9., 3., 8., 4., 4., 6., 0., 9., 5., 5., 0., 5., 8., 2.,\n",
       "       2., 3., 1., 7., 2., 5., 3., 5., 9., 4., 0., 8., 1., 2., 8., 4., 8.,\n",
       "       1., 1., 1., 7., 4., 5., 0., 2., 8., 4., 1., 0., 2., 7., 0., 1., 9.,\n",
       "       3., 8., 5., 2., 1., 1., 0., 5., 5., 5., 9., 6., 4., 4., 6., 2., 2.,\n",
       "       9., 4., 8., 9., 5., 4., 9., 3., 0., 3., 8., 1., 9., 6., 4., 4., 2.,\n",
       "       8., 8., 1., 0., 9., 7., 5., 6., 6., 5., 9., 3., 3., 4., 4., 6., 1.,\n",
       "       2., 8., 4., 7., 5., 6., 4., 8., 2., 3., 3., 7., 8., 6., 7., 8., 3.,\n",
       "       1., 6., 5., 2., 7., 1., 2., 0., 1., 9., 0., 9., 1., 4., 5., 6., 4.,\n",
       "       8., 5., 6., 6., 9., 2., 3., 4., 6., 0., 3., 4., 8., 6., 1., 0., 4.,\n",
       "       5., 4., 3., 2., 6., 6., 4., 8., 2., 1., 3., 3., 9., 3., 6., 0., 7.,\n",
       "       2., 6., 0., 2., 4., 9., 1., 4., 1., 2., 7., 3., 7., 2., 4., 5., 8.,\n",
       "       7., 0., 0., 6., 6., 0., 6., 3., 1., 5., 5., 8., 8., 1., 7., 4., 8.,\n",
       "       8., 1., 5., 2., 0., 9., 2., 0., 9., 6., 2., 8., 2., 9., 2., 5., 4.,\n",
       "       0., 9., 1., 7., 1., 5., 3., 6., 4., 3., 6., 7., 8., 9., 2., 5., 9.,\n",
       "       0., 3., 6., 0., 0., 1., 1., 3., 3., 0., 5., 3., 0., 5., 4., 8., 8.,\n",
       "       2., 0., 4., 6., 6., 5., 2., 1., 3., 8., 4., 1., 4., 6., 9., 5., 1.,\n",
       "       9., 4., 1., 5., 1., 1., 6., 0., 9., 4., 3., 3., 0., 5., 7., 2., 7.,\n",
       "       0., 3., 6., 5., 7., 5., 9., 5., 9., 1., 9., 5., 3., 0., 9., 2., 1.,\n",
       "       8., 6., 1., 1., 7., 3., 8., 1., 9., 3., 2., 6., 1., 1., 7., 9., 3.,\n",
       "       1., 0., 5., 1., 1., 8., 5., 4., 8., 0., 7., 4., 4., 6., 2., 3., 7.,\n",
       "       9., 9., 6., 2., 7., 4., 9., 5., 6., 7., 3., 5., 1., 8., 8., 5., 7.,\n",
       "       5., 2., 7., 2., 4., 8., 9., 1., 2., 2., 7., 9., 3., 8., 1., 8., 3.,\n",
       "       0., 1., 1., 9., 4., 9., 1., 2., 9., 8., 3., 3., 6., 7., 3., 3., 6.,\n",
       "       2., 4., 4., 0., 6., 5., 6., 6., 4., 3., 0., 8., 6., 0., 2., 1., 3.,\n",
       "       9., 4., 9., 4., 6., 3., 9., 5., 2., 2., 4., 7., 3., 7., 1., 9., 0.,\n",
       "       7., 0., 2., 1., 7., 9., 8., 6., 0., 9., 4., 3., 7., 0., 2., 7., 7.,\n",
       "       0., 5., 3., 9., 2., 1., 7., 1., 7., 6., 2., 9., 3., 1., 7., 6., 7.,\n",
       "       5., 2., 3., 8., 4., 6., 7., 4., 8., 1., 8., 4., 6., 7., 6., 6., 9.,\n",
       "       4., 0., 5., 1., 3., 2., 0., 0., 0., 5., 6., 8., 1., 2., 7., 1., 4.,\n",
       "       5., 2., 6., 3., 5., 6., 0., 8., 2., 7., 7., 8., 5., 7., 7., 1., 3.,\n",
       "       4., 2., 7., 5., 7., 7., 8., 9., 6., 0., 9., 1., 7., 3., 6., 3., 7.,\n",
       "       1., 7., 8., 7., 2., 1., 4., 6., 8., 4., 4., 0., 9., 0., 1., 2., 2.,\n",
       "       4., 9., 5., 3., 4., 3., 0., 1., 4., 6., 5., 4., 9., 5., 8., 5., 3.,\n",
       "       7., 1., 0., 5., 0., 7., 9., 2., 2., 7., 9., 6., 8., 9., 2., 5., 8.,\n",
       "       9., 2., 3., 5., 4., 2., 0., 1., 9., 9., 5., 6., 1., 1., 2., 1., 2.,\n",
       "       9., 0., 2., 1., 9., 6., 0., 8., 6., 4., 0., 3., 4., 4., 1., 8., 1.,\n",
       "       5., 9., 8., 1., 3., 6., 2., 9., 7., 7., 4., 7., 7., 1., 3., 0., 9.,\n",
       "       9., 6., 0., 5., 1., 8., 7., 0., 7., 2., 1., 1., 3., 4., 9., 9., 9.,\n",
       "       9., 9., 9., 8., 3., 7., 2., 9., 7., 8., 0., 4., 9., 9., 5., 1., 0.,\n",
       "       5., 9., 7., 3., 1., 7., 3., 2., 8., 1., 6., 0., 9., 6., 3., 1., 8.,\n",
       "       5., 9., 5., 0., 2., 4., 4., 5., 9., 4., 5., 5., 3., 4., 6., 9., 0.,\n",
       "       8., 3., 0., 2., 6., 4., 2., 5., 2., 2., 3., 0., 8., 2., 5., 3., 3.,\n",
       "       4., 4., 6., 8., 5., 0., 3., 5., 2., 6., 1., 9., 3., 1., 1., 8., 8.,\n",
       "       1., 7., 1., 0., 1., 0., 0., 0., 3., 1., 3., 7., 8., 3., 8., 7., 5.,\n",
       "       2., 8., 8., 6., 5., 8., 7., 5., 3., 3., 2., 0., 8., 3., 8., 1., 4.,\n",
       "       2., 0., 6., 1., 7., 1., 7., 7., 6., 6., 9., 1., 4., 7., 3., 0., 3.,\n",
       "       5., 9., 8., 2., 5., 3., 4., 9., 0., 4., 2., 8., 7., 5., 5., 4., 6.,\n",
       "       8., 7., 3., 1., 1., 5., 9., 5., 6., 2., 8., 6., 3., 8., 8., 2., 3.,\n",
       "       5., 3., 7., 8., 7., 5., 9., 3., 7., 5., 1., 9., 5., 7., 7., 8., 1.,\n",
       "       8., 5., 7., 7., 8., 0., 5., 3., 2., 1., 7., 1., 2., 2., 6., 8., 0.,\n",
       "       6., 6., 1., 3., 0., 0., 1., 9., 2., 7., 8., 7., 6., 6., 1., 1., 1.,\n",
       "       9., 5., 9., 0., 9., 2., 1., 6., 4., 2., 0., 1., 9., 8.])"
      ]
     },
     "execution_count": 86,
     "metadata": {},
     "output_type": "execute_result"
    }
   ],
   "source": [
    "my_pi"
   ]
  }
 ],
 "metadata": {
  "kernelspec": {
   "display_name": "Python 3 (ipykernel)",
   "language": "python",
   "name": "python3"
  },
  "language_info": {
   "codemirror_mode": {
    "name": "ipython",
    "version": 3
   },
   "file_extension": ".py",
   "mimetype": "text/x-python",
   "name": "python",
   "nbconvert_exporter": "python",
   "pygments_lexer": "ipython3",
   "version": "3.8.8"
  }
 },
 "nbformat": 4,
 "nbformat_minor": 5
}
