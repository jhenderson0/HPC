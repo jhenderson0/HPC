{
 "cells": [
  {
   "cell_type": "markdown",
   "id": "342454d8",
   "metadata": {},
   "source": [
    "# Finding the first 1000 digits of $\\pi$... quickly - using series expansions"
   ]
  },
  {
   "cell_type": "code",
   "execution_count": 1,
   "id": "4312d120",
   "metadata": {},
   "outputs": [],
   "source": [
    "import math\n",
    "from time import time\n",
    "import numexpr as ne\n",
    "import numpy as np\n",
    "import numba\n",
    "import matplotlib.pyplot as plt\n",
    "import pyopencl as cl\n",
    "from pyopencl.tools import get_test_platforms_and_devices\n",
    "import numexpr as ne\n",
    "import multiprocessing\n",
    "import threading\n",
    "import ctypes\n",
    "import concurrent.futures\n",
    "import gmpy2\n",
    "from gmpy2 import mpz, xmpz,mpfr\n"
   ]
  },
  {
   "cell_type": "markdown",
   "id": "38ee1741",
   "metadata": {},
   "source": [
    "## Introduction \n",
    "\n",
    "In this notebook we explore the process of computing the first 1000 digits of $\\pi$ as quickly as possible. Lots of the work here was inspired by this article: https://www.craig-wood.com/nick/articles/pi-chudnovsky/\n",
    "\n",
    "### A possible limit\n",
    "\n",
    "Python takes a limited amount of time to store data in memory, if we run a really simple piece of code, such as assigning a variable, we see that it takes about $8\\times10^{-5}$ seconds. Therefore we should probably expect the fastest algorithm we can run for this problem to have a run time greater than this."
   ]
  },
  {
   "cell_type": "code",
   "execution_count": 2,
   "id": "4b53baff",
   "metadata": {},
   "outputs": [
    {
     "name": "stdout",
     "output_type": "stream",
     "text": [
      "Time taken: 8.20159912109375e-05\n"
     ]
    }
   ],
   "source": [
    "start = time()\n",
    "a =  1\n",
    "print(f\"Time taken: {time() - start}\")"
   ]
  },
  {
   "cell_type": "markdown",
   "id": "b30f9da9",
   "metadata": {},
   "source": [
    "## The correct solution"
   ]
  },
  {
   "cell_type": "code",
   "execution_count": 3,
   "id": "d5dccbf0",
   "metadata": {},
   "outputs": [
    {
     "name": "stdout",
     "output_type": "stream",
     "text": [
      "3.1415926535897932384626433832795028841971693993751058209749445923078164062862089986280348253421170679821480865132823066470938446095505822317253594081284811174502841027019385211055596446229489549303819644288109756659334461284756482337867831652712019091456485669234603486104543266482133936072602491412737245870066063155881748815209209628292540917153643678925903600113305305488204665213841469519415116094330572703657595919530921861173819326117931051185480744623799627495673518857527248912279381830119491298336733624406566430860213949463952247371907021798609437027705392171762931767523846748184676694051320005681271452635608277857713427577896091736371787214684409012249534301465495853710507922796892589235420199561121290219608640344181598136297747713099605187072113499999983729780499510597317328160963185950244594553469083026425223082533446850352619311881710100031378387528865875332083814206171776691473035982534904287554687311595628638823537875937519577818577805321712268066130019278766111959092164201989\n"
     ]
    }
   ],
   "source": [
    "from mpmath import mp\n",
    "mp.dps = 1001  # set number of digits\n",
    "pi_correct = mp.pi\n",
    "print(pi_correct) # print pi to a thousand places  "
   ]
  },
  {
   "cell_type": "markdown",
   "id": "614325a7",
   "metadata": {},
   "source": [
    "To compare a value of pi we compute to this value we will need to compare them as strings and compare up to their 1001st element - this is because the 0th element is 3, the 1st is  '.' and so on."
   ]
  },
  {
   "cell_type": "code",
   "execution_count": 4,
   "id": "d46d6ed4",
   "metadata": {},
   "outputs": [],
   "source": [
    "def compare(test,to=1001):\n",
    "    \n",
    "    true = str(mp.pi)\n",
    "    \n",
    "    assert test[:to] == true[:to]\n",
    "    \n",
    "    print(f\"Sequences matched up to {to} places\")"
   ]
  },
  {
   "cell_type": "markdown",
   "id": "0d54b21e",
   "metadata": {},
   "source": [
    "## Dealing with precision - fixed point arithmetic\n",
    "\n",
    "Computers can only store numbers up to 16 decimal places, as double precision numbers, this is an issue for us as we wish to be accurately returning pi up to 1000 decimal places. A solution to this is to store $\\pi$ as really large integer (a fixed point number), with the 1000th decimal place occupying the ones column. \n",
    "\n",
    "To convert a number to fixed point, we want to raise it to the power of some value and just use the integer part. For example, if we want to express 1 with a 1000 decimal places we can write it like:"
   ]
  },
  {
   "cell_type": "code",
   "execution_count": 5,
   "id": "85de1ea8",
   "metadata": {},
   "outputs": [
    {
     "name": "stdout",
     "output_type": "stream",
     "text": [
      "1 in fixed point with 1000 decimal places: 10000000000000000000000000000000000000000000000000000000000000000000000000000000000000000000000000000000000000000000000000000000000000000000000000000000000000000000000000000000000000000000000000000000000000000000000000000000000000000000000000000000000000000000000000000000000000000000000000000000000000000000000000000000000000000000000000000000000000000000000000000000000000000000000000000000000000000000000000000000000000000000000000000000000000000000000000000000000000000000000000000000000000000000000000000000000000000000000000000000000000000000000000000000000000000000000000000000000000000000000000000000000000000000000000000000000000000000000000000000000000000000000000000000000000000000000000000000000000000000000000000000000000000000000000000000000000000000000000000000000000000000000000000000000000000000000000000000000000000000000000000000000000000000000000000000000000000000000000000000000000000000000000000000000000000000000000000000000000000000000000000000000000000000000000000000000000000\n"
     ]
    }
   ],
   "source": [
    "print(f\"1 in fixed point with 1000 decimal places: {int(10**1000)}\")"
   ]
  },
  {
   "cell_type": "markdown",
   "id": "f998057e",
   "metadata": {},
   "source": [
    "Therefore for dealing with 1000 decimal places, we can represent any number as:\n",
    "\n",
    "$$F(n) = \\text{Int}\\left(n \\cdot 10^{1000}\\right)$$"
   ]
  },
  {
   "cell_type": "markdown",
   "id": "fa477d13",
   "metadata": {},
   "source": [
    "## Gauss's formula for $\\pi$\n",
    "\n",
    "$$4\\left[12\\arctan(\\frac{1}{18}) + 8\\arctan(\\frac{1}{57}) - 5 \\arctan(\\frac{1}{239}) \\right]$$"
   ]
  },
  {
   "cell_type": "code",
   "execution_count": 6,
   "id": "7c36ac9c",
   "metadata": {},
   "outputs": [],
   "source": [
    "pi_gauss_double = 4*(12*np.arctan(1/18)+8*np.arctan(1/57)-5*np.arctan(1/239))"
   ]
  },
  {
   "cell_type": "markdown",
   "id": "2d25dcf8",
   "metadata": {},
   "source": [
    "If we compare this to the true value of $\\pi$ we can see that it agrees up to 16 decimal places"
   ]
  },
  {
   "cell_type": "code",
   "execution_count": 7,
   "id": "f7f29d53",
   "metadata": {},
   "outputs": [
    {
     "name": "stdout",
     "output_type": "stream",
     "text": [
      "Sequences matched up to 16 places\n"
     ]
    }
   ],
   "source": [
    "compare(str(pi_gauss_double),16)"
   ]
  },
  {
   "cell_type": "markdown",
   "id": "78297da4",
   "metadata": {},
   "source": [
    "So how can we compute the arctan of a number in the fixed point representation with 1000 decimal places? We can use a series solution for arctan which is given by:\n",
    "\n",
    "$$\\arctan\\left(\\frac{1}{x}\\right) = \\sum_{k=0}^{\\infty}(-1)^k \\frac{1}{(2k+1)x^{2k+1}} \\approx \\frac{1}{x} -\\frac{1}{3x^3} + \\frac{1}{5x^5} - \\frac{1}{7x^7} + \\frac{1}{9x^9} + \\cdots  $$"
   ]
  },
  {
   "cell_type": "markdown",
   "id": "141d40db",
   "metadata": {},
   "source": [
    "In the function below we compute this series in fixed point representation, we find we actually need a few ore decimal places to correctly get the 1000th decimal place"
   ]
  },
  {
   "cell_type": "code",
   "execution_count": 8,
   "id": "533f0b90",
   "metadata": {},
   "outputs": [],
   "source": [
    "def arctan(x, shift = 10**1004):\n",
    "   \n",
    "    power = shift // x           # the +/- 1/x**n part of the term\n",
    "    x_squared = x * x           # precalculate x**2\n",
    "    divisor = 1                 # the 1,3,5,7 part of the divisor\n",
    "    \n",
    "    s = power                   # set the first term\n",
    "    while 1:\n",
    "        power = - power // x_squared      #Update the power of the term and the sign\n",
    "        divisor += 2                      #Increase the divisor\n",
    "        next_term = power // divisor      #Work out the new term\n",
    "        \n",
    "        #If we have gone past 1000 decimal places of accuracy - stop\n",
    "        if next_term == 0:\n",
    "            break\n",
    "            \n",
    "        s+= next_term\n",
    "    \n",
    "    return s"
   ]
  },
  {
   "cell_type": "code",
   "execution_count": 9,
   "id": "990c0dd2",
   "metadata": {},
   "outputs": [
    {
     "name": "stdout",
     "output_type": "stream",
     "text": [
      "The arctan of 1/18 is to 1000 decimal places 8314123188844122991066831465078129753113134062801942623462746639599740633673860294173683788901495737849499492476515856469024250878518156303632372178191542250148014267105144311297928521021881855377346186718382401636466579117038759812372749500609934456465098722717344445347800257448258209980803333375090183939213735853163991579333879396881297420397067322204321736591254213438807393260334682791584554622536689276784689032300385723760922286644199971025830537404775340227477490960854598260108732823210225826190731248869852759383340027385389240111957337423802552265421194137397541297480114715105083560634607861620840260097692501426837527079503858475092320701745709076182103912239183753117968569670764359569881354714470841030502526845128973102086237781783440558659520514781692129687824933160036230881579771865412830630758130936426849083250850149028201561742850031261928572797907566067938778616636489118704367690609110541876250086724164413613570479838207334391477794709103731957879144008364713513755160104533737\n"
     ]
    }
   ],
   "source": [
    "print(f\"The arctan of 1/18 is to 1000 decimal places {arctan(12)}\")"
   ]
  },
  {
   "cell_type": "markdown",
   "id": "5fa483eb",
   "metadata": {},
   "source": [
    "We can now apply Gauss' formula"
   ]
  },
  {
   "cell_type": "code",
   "execution_count": 10,
   "id": "7a15a419",
   "metadata": {},
   "outputs": [],
   "source": [
    "def gauss_pi():\n",
    "    \n",
    "    return 4*(12*arctan(18)+8*arctan(57)-5*arctan(239))"
   ]
  },
  {
   "cell_type": "code",
   "execution_count": 11,
   "id": "d4842905",
   "metadata": {},
   "outputs": [
    {
     "name": "stdout",
     "output_type": "stream",
     "text": [
      "Time taken: 0.002135038375854492\n"
     ]
    }
   ],
   "source": [
    "start = time()\n",
    "pi_gauss_1000 = gauss_pi()\n",
    "print(f\"Time taken: {time() - start}\")"
   ]
  },
  {
   "cell_type": "markdown",
   "id": "1a6e265b",
   "metadata": {},
   "source": [
    "This is pretty quick! If we could bring it down one more order of magnitude I would be very happy:"
   ]
  },
  {
   "cell_type": "code",
   "execution_count": 12,
   "id": "b6f47393",
   "metadata": {},
   "outputs": [],
   "source": [
    "#Turn into a string with a decimal point for comparison\n",
    "pi_gauss_1000 = str(pi_gauss_1000)[:1]+'.'+str(pi_gauss_1000)[1:]"
   ]
  },
  {
   "cell_type": "code",
   "execution_count": 13,
   "id": "8a29ab01",
   "metadata": {},
   "outputs": [
    {
     "name": "stdout",
     "output_type": "stream",
     "text": [
      "Sequences matched up to 1001 places\n"
     ]
    }
   ],
   "source": [
    "compare(pi_gauss_1000,1001)"
   ]
  },
  {
   "cell_type": "markdown",
   "id": "29d64ff5",
   "metadata": {},
   "source": [
    "## The Chudnovsky algorithm \n",
    "\n",
    "$$\\frac{1}{\\pi} = 12 \\sum_{k=0}^{\\infty}\\frac{(-1)^k(6k)!(545140134k+13591409)}{(3k)!(k!)^3(640320)^{3k+3/2}}$$\n",
    "\n",
    "This function returns around 14.18 digits of $\\pi$ per term. Therefore for 1000 digits we need to compute 71 terms of this equation. This algorithm can be optimized by writing it in terms of sums $a$ and $b$:\n",
    "\n",
    "$$a = \\sum_{k=0}^{\\infty}\\frac{(-1)^k(6k)!}{(3k)!(k!)^3(640320)^{3k}}$$\n",
    "\n",
    "$$b = \\sum_{k=0}^{\\infty}\\frac{(-1)^k(6k)!k}{(3k)!(k!)^3(640320)^{3k}}$$\n",
    "\n",
    "So then we can rewrite pi as:\n",
    "\n",
    "$$\\pi = \\frac{426880\\sqrt{10005}}{13591409a+54510134b}$$\n",
    "\n",
    "We can write each term of $a$ in terms of the last term and $b$ can also be written in terms of $a$. Therefore we get:\n",
    "\n",
    "$$a_k = \\frac{24(6k-1)(2k-1)(6k-1)}{k^3640320^3}a_{k-1}$$\n",
    "\n",
    "and \n",
    "\n",
    "$$b_k = ka_k$$\n",
    "\n",
    "Where we have $a_0 = 1$ and $b_0 = 0$"
   ]
  },
  {
   "cell_type": "code",
   "execution_count": 14,
   "id": "211da1dd",
   "metadata": {},
   "outputs": [],
   "source": [
    "def chudnovsky_pi(shift = 10**1006):\n",
    "    \n",
    "    #Set the a0 term\n",
    "    a_k = shift\n",
    "    \n",
    "    #Initilise the sums\n",
    "    a_sum = shift\n",
    "    b_sum = 0\n",
    "    \n",
    "    #Compute the constant part for ak terms\n",
    "    C = 640320**3 // 24\n",
    "    \n",
    "    #Obtain the sums for a and b until the terms have no integer parts\n",
    "    k = 1\n",
    "    while k<=71:\n",
    "        a_k *= -(6*k-5)*(2*k-1)*(6*k-1)\n",
    "        a_k //= k*k*k*C\n",
    "        a_sum += a_k\n",
    "        b_sum += k * a_k\n",
    "        k += 1\n",
    "            \n",
    "    #Finally put the sums together to get the denominator\n",
    "    denom = 13591409*a_sum + 545140134*b_sum\n",
    "    \n",
    "    #Calculate pi from a and b\n",
    "    pi = (426880*sqrt(10005*shift, shift)*shift) // denom\n",
    "    \n",
    "    return pi"
   ]
  },
  {
   "cell_type": "markdown",
   "id": "fdcee066",
   "metadata": {},
   "source": [
    "Now the only issue we have here is we need to be able to take the square root of large integers. We have to create our own function for this:"
   ]
  },
  {
   "cell_type": "code",
   "execution_count": 15,
   "id": "4c4aec07",
   "metadata": {},
   "outputs": [],
   "source": [
    "def sqrt(n, shift):\n",
    "    \n",
    "    # Use floating point arithmetic to make an initial guess\n",
    "    floating_point_precision = 10**16\n",
    "    n_float = float((n * floating_point_precision) // shift) / floating_point_precision\n",
    "    x = (int(floating_point_precision * math.sqrt(n_float)) * shift) // floating_point_precision\n",
    "    n_shifted = n * shift\n",
    "    \n",
    "    while 1:\n",
    "        x_old = x\n",
    "        x = (x + n_shifted // x) // 2\n",
    "        if x == x_old:\n",
    "            break\n",
    "    return x"
   ]
  },
  {
   "cell_type": "code",
   "execution_count": 16,
   "id": "d59d460b",
   "metadata": {},
   "outputs": [
    {
     "name": "stdout",
     "output_type": "stream",
     "text": [
      "Time taken: 0.000579833984375\n"
     ]
    }
   ],
   "source": [
    "start = time()\n",
    "pi_chudnovsky_1000 = chudnovsky_pi()\n",
    "print(f\"Time taken: {time() - start}\")"
   ]
  },
  {
   "cell_type": "code",
   "execution_count": 17,
   "id": "98c43234",
   "metadata": {},
   "outputs": [],
   "source": [
    "#Turn into a string with a decimal point for comparison\n",
    "pi_chudnovsky_1000 = str(pi_chudnovsky_1000)[:1]+'.'+str(pi_chudnovsky_1000)[1:]"
   ]
  },
  {
   "cell_type": "code",
   "execution_count": 18,
   "id": "b5f3816c",
   "metadata": {},
   "outputs": [
    {
     "data": {
      "text/plain": [
       "'3.1415926535897932384626433832795028841971693993751058209749445923078164062862089986280348253421170679821480865132823066470938446095505822317253594081284811174502841027019385211055596446229489549303819644288109756659334461284756482337867831652712019091456485669234603486104543266482133936072602491412737245870066063155881748815209209628292540917153643678925903600113305305488204665213841469519415116094330572703657595919530921861173819326117931051185480744623799627495673518857527248912279381830119491298336733624406566430860213949463952247371907021798609437027705392171762931767523846748184676694051320005681271452635608277857713427577896091736371787214684409012249534301465495853710507922796892589235420199561121290219608640344181598136297747713099605187072113499999983729780499510597317328160963185950244594553469083026425223082533446850352619311881710100031378387528865875332083814206171776691473035982534904287554687311595628638823537875937519577818577805321712268066130019278766111959092164201989533169'"
      ]
     },
     "execution_count": 18,
     "metadata": {},
     "output_type": "execute_result"
    }
   ],
   "source": [
    "pi_chudnovsky_1000"
   ]
  },
  {
   "cell_type": "code",
   "execution_count": 19,
   "id": "7eec34e3",
   "metadata": {},
   "outputs": [
    {
     "name": "stdout",
     "output_type": "stream",
     "text": [
      "Sequences matched up to 1001 places\n"
     ]
    }
   ],
   "source": [
    "compare(pi_chudnovsky_1000,1001)"
   ]
  },
  {
   "cell_type": "markdown",
   "id": "923c694a",
   "metadata": {},
   "source": [
    "Thats really quick, it's about 10 times slower than the time it takes python to assign a variable! - can we go quicker?"
   ]
  },
  {
   "cell_type": "markdown",
   "id": "59dffc32",
   "metadata": {},
   "source": [
    "### Binary Splitting\n",
    "\n",
    "Binary splitting lets us split the series into parts. Instead of calculating one term after the other, we calculate different sections of the sequence and combine them. For example we go from calculating the sum $S(0,8)$ to getting: $S(0,4)$ and $S(4,8)$. Then from here we split again to get $S(0,2)$, $S(2,4)$, $S(4,6)$, $S(6,8)$. Finally we split again to get $S(0,1)$, $S(1,2)$, $S(2,3)$, $S(3,4)$, $S(4,5)$, $S(5,6)$, $S(6,7)$, $S(7,8)$. We can then stop our splitting here as we know:\n",
    "\n",
    "$$P(a,a+1) = p_a$$\n",
    "\n",
    "$$Q(a,a+1) = q_a$$\n",
    "\n",
    "$$B(a,a+1) = b_a$$\n",
    "\n",
    "$$S(a,a+1) = \\frac{a_ap_a}{b_aq_a}$$\n",
    "\n",
    "$$T(a,a+1) = B(a,a+1)Q(a,a+1)S(a,a+1) = a_ap_a$$\n",
    "\n",
    "So one we've worked out $T(0,n)$, $Q(0,n)$, $P(0,n)$ and $B(0,n)$, we can get $S(0,n)$:\n",
    "\n",
    "$$S(0,n) = \\frac{T(0,n)}{B(0,n)Q(0,n)}$$\n",
    "\n",
    "For the chudnovsky algorithm we set the terms to be:\n",
    "\n",
    "$$p_0 = 1$$\n",
    "\n",
    "$$p_a = (6a-1)(2a-1)(6a-1)$$\n",
    "\n",
    "$$q_0 = 1$$\n",
    "\n",
    "$$q_a = a^3\\frac{640320^3}{24}$$\n",
    "\n",
    "$$a_a = (13591409+545140134a)$$"
   ]
  },
  {
   "cell_type": "code",
   "execution_count": 20,
   "id": "75058c21",
   "metadata": {},
   "outputs": [],
   "source": [
    "def pi_chudnovsky_bs(digits):\n",
    "    \"\"\"\n",
    "    Compute int(pi * 10**digits)\n",
    "\n",
    "    This is done using Chudnovsky's series with binary splitting\n",
    "    \"\"\"\n",
    "    \n",
    "    C = 640320**3 // 24\n",
    "    def bs(a, b):\n",
    "        \"\"\"\n",
    "        Computes the terms for binary splitting the Chudnovsky infinite series\n",
    "\n",
    "        a(a) = +/- (13591409 + 545140134*a)\n",
    "        p(a) = (6*a-5)*(2*a-1)*(6*a-1)\n",
    "        b(a) = 1\n",
    "        q(a) = a*a*a*C3_OVER_24\n",
    "\n",
    "        returns P(a,b), Q(a,b) and T(a,b)\n",
    "        \"\"\"\n",
    "        \n",
    "        #If the terms are next to eachother then get P(a,a+1), Q(a,a+1) and T(a,a+1)\n",
    "        if b - a == 1:\n",
    "            if a == 0:\n",
    "                Pab = Qab = 1\n",
    "            else:\n",
    "                Pab = (6*a-5)*(2*a-1)*(6*a-1)\n",
    "                Qab = a*a*a*C\n",
    "                \n",
    "            Tab = Pab * (13591409 + 545140134*a) # a(a) * p(a)\n",
    "            if a & 1:\n",
    "                Tab = -Tab\n",
    "                \n",
    "        #If the terms aren't next to eachother the split down further\n",
    "        else:\n",
    "            # Recursively compute P(a,b), Q(a,b) and T(a,b)\n",
    "            \n",
    "            # Find m, the midpoint of a and b\n",
    "            m = (a + b) // 2\n",
    "            \n",
    "            # Recursively calculate P(a,m), Q(a,m) and T(a,m)\n",
    "            Pam, Qam, Tam = bs(a, m)\n",
    "            \n",
    "            # Recursively calculate P(m,b), Q(m,b) and T(m,b)\n",
    "            Pmb, Qmb, Tmb = bs(m, b)\n",
    "            \n",
    "            # Now combine\n",
    "            Pab = Pam * Pmb\n",
    "            Qab = Qam * Qmb\n",
    "            Tab = Qmb * Tam + Pam * Tmb\n",
    "        \n",
    "        return Pab, Qab, Tab\n",
    "    \n",
    "    # how many terms to compute\n",
    "    DIGITS_PER_TERM = math.log10(C/6/2/6)\n",
    "    N = int(digits/DIGITS_PER_TERM + 1) #This will be 71 for us as we want 1000 digits\n",
    "    \n",
    "    # Calclate P(0,N) and Q(0,N)\n",
    "    P, Q, T = bs(0, N)\n",
    "    \n",
    "    one = 10**digits #Set everything to fixed point values\n",
    "    sqrtC = sqrt(10005*one, one)\n",
    "    \n",
    "    return (Q*426880*sqrtC) // T"
   ]
  },
  {
   "cell_type": "code",
   "execution_count": 21,
   "id": "1ae05ffb",
   "metadata": {},
   "outputs": [
    {
     "name": "stdout",
     "output_type": "stream",
     "text": [
      "Time taken: 0.0005609989166259766\n"
     ]
    }
   ],
   "source": [
    "start = time()\n",
    "pi_chudnovskybs_1000 =  pi_chudnovsky_bs(1000)\n",
    "print(f\"Time taken: {time() - start}\")"
   ]
  },
  {
   "cell_type": "code",
   "execution_count": 22,
   "id": "8d62667b",
   "metadata": {},
   "outputs": [],
   "source": [
    "#Turn into a string with a decimal point for comparison\n",
    "pi_chudnovskybs_1000 = str(pi_chudnovskybs_1000)[:1]+'.'+str(pi_chudnovskybs_1000)[1:]"
   ]
  },
  {
   "cell_type": "code",
   "execution_count": 23,
   "id": "2ed9e004",
   "metadata": {},
   "outputs": [
    {
     "data": {
      "text/plain": [
       "'3.1415926535897932384626433832795028841971693993751058209749445923078164062862089986280348253421170679821480865132823066470938446095505822317253594081284811174502841027019385211055596446229489549303819644288109756659334461284756482337867831652712019091456485669234603486104543266482133936072602491412737245870066063155881748815209209628292540917153643678925903600113305305488204665213841469519415116094330572703657595919530921861173819326117931051185480744623799627495673518857527248912279381830119491298336733624406566430860213949463952247371907021798609437027705392171762931767523846748184676694051320005681271452635608277857713427577896091736371787214684409012249534301465495853710507922796892589235420199561121290219608640344181598136297747713099605187072113499999983729780499510597317328160963185950244594553469083026425223082533446850352619311881710100031378387528865875332083814206171776691473035982534904287554687311595628638823537875937519577818577805321712268066130019278766111959092164201989'"
      ]
     },
     "execution_count": 23,
     "metadata": {},
     "output_type": "execute_result"
    }
   ],
   "source": [
    "pi_chudnovskybs_1000"
   ]
  },
  {
   "cell_type": "code",
   "execution_count": 24,
   "id": "596e4c43",
   "metadata": {},
   "outputs": [
    {
     "name": "stdout",
     "output_type": "stream",
     "text": [
      "Sequences matched up to 1001 places\n"
     ]
    }
   ],
   "source": [
    "compare(pi_chudnovskybs_1000,1001)"
   ]
  },
  {
   "cell_type": "markdown",
   "id": "a2063755",
   "metadata": {},
   "source": [
    "### Using Gmpy2"
   ]
  },
  {
   "cell_type": "code",
   "execution_count": 25,
   "id": "6491bac9",
   "metadata": {},
   "outputs": [],
   "source": [
    "def pi_chudnovsky_bs(digits):\n",
    "    \"\"\"\n",
    "    Compute int(pi * 10**digits)\n",
    "\n",
    "    This is done using Chudnovsky's series with binary splitting\n",
    "    \"\"\"\n",
    "    C = 640320\n",
    "    C3_OVER_24 = C**3 // 24\n",
    "    def bs(a, b):\n",
    "        \"\"\"\n",
    "        Computes the terms for binary splitting the Chudnovsky infinite series\n",
    "\n",
    "        a(a) = +/- (13591409 + 545140134*a)\n",
    "        p(a) = (6*a-5)*(2*a-1)*(6*a-1)\n",
    "        b(a) = 1\n",
    "        q(a) = a*a*a*C3_OVER_24\n",
    "\n",
    "        returns P(a,b), Q(a,b) and T(a,b)\n",
    "        \"\"\"\n",
    "        if b - a == 1:\n",
    "            # Directly compute P(a,a+1), Q(a,a+1) and T(a,a+1)\n",
    "            if a == 0:\n",
    "                Pab = Qab = mpz(1)\n",
    "            else:\n",
    "                Pab = mpz((6*a-5)*(2*a-1)*(6*a-1))\n",
    "                Qab = mpz(a*a*a*C3_OVER_24)\n",
    "            Tab = Pab * (13591409 + 545140134*a) # a(a) * p(a)\n",
    "            if a & 1:\n",
    "                Tab = -Tab\n",
    "        else:\n",
    "            # Recursively compute P(a,b), Q(a,b) and T(a,b)\n",
    "            # m is the midpoint of a and b\n",
    "            m = (a + b) // 2\n",
    "            # Recursively calculate P(a,m), Q(a,m) and T(a,m)\n",
    "            Pam, Qam, Tam = bs(a, m)\n",
    "            # Recursively calculate P(m,b), Q(m,b) and T(m,b)\n",
    "            Pmb, Qmb, Tmb = bs(m, b)\n",
    "            # Now combine\n",
    "            Pab = Pam * Pmb\n",
    "            Qab = Qam * Qmb\n",
    "            Tab = Qmb * Tam + Pam * Tmb\n",
    "        return Pab, Qab, Tab\n",
    "    # how many terms to compute\n",
    "    DIGITS_PER_TERM = math.log10(C3_OVER_24/6/2/6)\n",
    "    N = int(digits/DIGITS_PER_TERM + 1)\n",
    "    # Calclate P(0,N) and Q(0,N)\n",
    "    P, Q, T = bs(0, N)\n",
    "    one_squared = mpz(10)**(2*digits)\n",
    "    sqrtC = gmpy2.sqrt((10005*one_squared))\n",
    "    return (Q*426880*sqrtC) // T"
   ]
  },
  {
   "cell_type": "code",
   "execution_count": 26,
   "id": "26959a62",
   "metadata": {},
   "outputs": [
    {
     "name": "stdout",
     "output_type": "stream",
     "text": [
      "Time taken: 0.0018849372863769531\n"
     ]
    },
    {
     "data": {
      "text/plain": [
       "'3.1415926535897932384626433832795028841971693993751058209749445923078164062862089986280348253421170679821480865132823066470938446095505822317253594081284811174502841027019385211055596446229489549303819644288109756659334461284756482337867831652712019091456485669234603486104543266482133936072602491412737245870066063155881748815209209628292540917153643678925903600113305305488204665213841469519415116094330572703657595919530921861173819326117931051185480744623799627495673518857527248912279381830119491298336733624406566430860213949463952247371907021798609437027705392171762931767523846748184676694051320005681271452635608277857713427577896091736371787214684409012249534301465495853710507922796892589235420199561121290219608640344181598136297747713099605187072113499999983729780499510597317328160963185950244594553469083026425223082533446850352619311881710100031378387528865875332083814206171776691473035982534904287554687311595628638823537875937519577818577805321712268066130019278766111959092164201989'"
      ]
     },
     "execution_count": 26,
     "metadata": {},
     "output_type": "execute_result"
    }
   ],
   "source": [
    "gmpy2.get_context().precision = 10001\n",
    "start = time()\n",
    "pi_chudnovskybs_1000 =  pi_chudnovsky_bs(1000)\n",
    "print(f\"Time taken: {time() - start}\")\n",
    "pi_chudnovskybs_1000 = str(pi_chudnovskybs_1000)[:1]+'.'+str(pi_chudnovskybs_1000)[1:-2]\n",
    "pi_chudnovskybs_1000"
   ]
  },
  {
   "cell_type": "code",
   "execution_count": 27,
   "id": "fdf70c60",
   "metadata": {},
   "outputs": [
    {
     "name": "stdout",
     "output_type": "stream",
     "text": [
      "Sequences matched up to 1001 places\n"
     ]
    }
   ],
   "source": [
    "compare(pi_chudnovskybs_1000,1001)"
   ]
  },
  {
   "cell_type": "markdown",
   "id": "6ffb9ab9",
   "metadata": {},
   "source": [
    "### Vectorizing\n",
    "\n",
    "We can create an array which stores the 71 split values for $Q$, $P$ and $T$ (actually we will use 128 as this nicely divides by 2 all the way down), we then only need 7 iterative steps to get the values for these sums:"
   ]
  },
  {
   "cell_type": "code",
   "execution_count": 28,
   "id": "b445ba89",
   "metadata": {},
   "outputs": [],
   "source": [
    "#If this could be done in parallel it would be great (split into 8 problems, do those and then combine)\n",
    "def vector_pi():\n",
    "    \n",
    "    #Terms to obtain\n",
    "    a_ints = np.arange(0,128,1,dtype='int')\n",
    "    a_objs = a_ints.astype('object')\n",
    "    \n",
    "    #The P terms\n",
    "    P = (6*a_ints-5)*(2*a_ints-1)*(6*a_ints-1)\n",
    "    P[0] = 1\n",
    "    \n",
    "    #The Q terms\n",
    "    Q = a_objs*a_objs*a_objs*(640320**3 // 24)\n",
    "    Q[0] = 1\n",
    "    \n",
    "    #The T terms\n",
    "    T =  P * (13591409 + 545140134*a_objs)\n",
    "    \n",
    "    #Calculate the first contraction - the P array is using ints here \n",
    "    T = (Q[1::2] * T[0::2]) - (P[0::2].astype('object') * T[1::2])\n",
    "    Q = Q[0::2] * Q[1::2]\n",
    "    P = P[0::2] * P[1::2]\n",
    "    \n",
    "    #Cast P to an object as we will now be dealing with large numbers\n",
    "    P = P.astype('object')\n",
    "    for i in range(1,6):\n",
    "        T = (Q[1::2] * T[0::2]) + (P[0::2] * T[1::2])\n",
    "        Q = Q[0::2] * Q[1::2]\n",
    "        P = P[0::2] * P[1::2]\n",
    "    \n",
    "    #Calculate the final contraction of T and Q - we dont need P the last contraction of P\n",
    "    T = ((Q[1::2] * T[0::2]) + (P[0::2] * T[1::2]))\n",
    "    Q = Q[0::2] * Q[1::2]\n",
    "        \n",
    "    #We can then finally convert these sums into pi\n",
    "    return (Q*426880*gmpy2.sqrt((mpz(10005)))) / T  "
   ]
  },
  {
   "cell_type": "code",
   "execution_count": 32,
   "id": "758d7585",
   "metadata": {},
   "outputs": [
    {
     "name": "stdout",
     "output_type": "stream",
     "text": [
      "Time taken: 0.0006577968597412109\n"
     ]
    }
   ],
   "source": [
    "gmpy2.get_context().precision=3322\n",
    "start = time()\n",
    "pi = vector_pi()\n",
    "print(f\"Time taken: {time() - start}\")"
   ]
  },
  {
   "cell_type": "code",
   "execution_count": 30,
   "id": "2fc05975",
   "metadata": {},
   "outputs": [
    {
     "data": {
      "text/plain": [
       "'3.14159265358979323846264338327950288419716939937510582097494459230781640628620899862803482534211706798214808651328230664709384460955058223172535940812848111745028410270193852110555964462294895493038196442881097566593344612847564823378678316527120190914564856692346034861045432664821339360726024914127372458700660631558817488152092096282925409171536436789259036001133053054882046652138414695194151160943305727036575959195309218611738193261179310511854807446237996274956735188575272489122793818301194912983367336244065664308602139494639522473719070217986094370277053921717629317675238467481846766940513200056812714526356082778577134275778960917363717872146844090122495343014654958537105079227968925892354201995611212902196086403441815981362977477130996051870721134999999837297804995105973173281609631859502445945534690830264252230825334468503526193118817101000313783875288658753320838142061717766914730359825349042875546873115956286388235378759375195778185778053217122680661300192787661119590921642019898'"
      ]
     },
     "execution_count": 30,
     "metadata": {},
     "output_type": "execute_result"
    }
   ],
   "source": [
    "pi_new = str(pi[0])\n",
    "pi_new"
   ]
  },
  {
   "cell_type": "code",
   "execution_count": 31,
   "id": "40471406",
   "metadata": {},
   "outputs": [
    {
     "name": "stdout",
     "output_type": "stream",
     "text": [
      "Sequences matched up to 1001 places\n"
     ]
    }
   ],
   "source": [
    "compare(pi_new,1001)"
   ]
  },
  {
   "cell_type": "code",
   "execution_count": null,
   "id": "a20f88c2",
   "metadata": {},
   "outputs": [],
   "source": []
  }
 ],
 "metadata": {
  "kernelspec": {
   "display_name": "Python 3 (ipykernel)",
   "language": "python",
   "name": "python3"
  },
  "language_info": {
   "codemirror_mode": {
    "name": "ipython",
    "version": 3
   },
   "file_extension": ".py",
   "mimetype": "text/x-python",
   "name": "python",
   "nbconvert_exporter": "python",
   "pygments_lexer": "ipython3",
   "version": "3.8.8"
  }
 },
 "nbformat": 4,
 "nbformat_minor": 5
}
