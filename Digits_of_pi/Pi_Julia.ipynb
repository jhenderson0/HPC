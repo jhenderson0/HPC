{
 "cells": [
  {
   "cell_type": "code",
   "execution_count": 1,
   "id": "1185c4d2",
   "metadata": {},
   "outputs": [
    {
     "data": {
      "text/plain": [
       "1600"
      ]
     },
     "execution_count": 1,
     "metadata": {},
     "output_type": "execute_result"
    }
   ],
   "source": [
    "using Decimals\n",
    "setprecision(1600)"
   ]
  },
  {
   "cell_type": "code",
   "execution_count": 2,
   "id": "2a1c5de1",
   "metadata": {},
   "outputs": [
    {
     "ename": "LoadError",
     "evalue": "UndefVarError: arange not defined",
     "output_type": "error",
     "traceback": [
      "UndefVarError: arange not defined",
      "",
      "Stacktrace:",
      " [1] top-level scope",
      "   @ In[2]:1",
      " [2] eval",
      "   @ ./boot.jl:368 [inlined]",
      " [3] include_string(mapexpr::typeof(REPL.softscope), mod::Module, code::String, filename::String)",
      "   @ Base ./loading.jl:1428"
     ]
    }
   ],
   "source": [
    "a = arange(0,128,1)"
   ]
  },
  {
   "cell_type": "code",
   "execution_count": null,
   "id": "368ccaa1",
   "metadata": {},
   "outputs": [],
   "source": [
    "function vector_pi()\n",
    "    \n",
    "    a = arange(0,128,1)\n",
    "    \n",
    "    P = (6*a-)"
   ]
  },
  {
   "cell_type": "code",
   "execution_count": null,
   "id": "7554b4f6",
   "metadata": {},
   "outputs": [],
   "source": [
    "#If this could be done in parallel it would be great (split into 8 problems, do those and then combine)\n",
    "def vector_pi():\n",
    "    \n",
    "    #Terms to obtain\n",
    "    a_ints = np.arange(0,128,1,dtype='int')\n",
    "    a_objs = a_ints.astype('object')\n",
    "    \n",
    "    #The P terms\n",
    "    P = (6*a_ints-5)*(2*a_ints-1)*(6*a_ints-1)\n",
    "    P[0] = 1\n",
    "    \n",
    "    #The Q terms\n",
    "    Q = a_objs*a_objs*a_objs*(640320**3 // 24)\n",
    "    Q[0] = 1\n",
    "    \n",
    "    #The T terms\n",
    "    T =  P * (13591409 + 545140134*a_objs)\n",
    "    \n",
    "    #Calculate the first contraction - the P array is using ints here \n",
    "    T = (Q[1::2] * T[0::2]) - (P[0::2].astype('object') * T[1::2])\n",
    "    Q = Q[0::2] * Q[1::2]\n",
    "    P = P[0::2] * P[1::2]\n",
    "    \n",
    "    #Cast P to an object as we will now be dealing with large numbers\n",
    "    P = P.astype('object')\n",
    "    for i in range(1,6):\n",
    "        T = (Q[1::2] * T[0::2]) + (P[0::2] * T[1::2])\n",
    "        Q = Q[0::2] * Q[1::2]\n",
    "        P = P[0::2] * P[1::2]\n",
    "    \n",
    "    #Calculate the final contraction of T and Q - we dont need P the last contraction of P\n",
    "    T = ((Q[1::2] * T[0::2]) + (P[0::2] * T[1::2]))\n",
    "    Q = Q[0::2] * Q[1::2]\n",
    "        \n",
    "    #We can then finally convert these sums into pi\n",
    "    return (Q*426880*gmpy2.sqrt((mpz(10005)))) / T  "
   ]
  }
 ],
 "metadata": {
  "kernelspec": {
   "display_name": "Julia 1.8.2",
   "language": "julia",
   "name": "julia-1.8"
  },
  "language_info": {
   "file_extension": ".jl",
   "mimetype": "application/julia",
   "name": "julia",
   "version": "1.8.2"
  }
 },
 "nbformat": 4,
 "nbformat_minor": 5
}
