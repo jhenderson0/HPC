{
  "cells": [
    {
      "cell_type": "markdown",
      "source": [
        "# Assignment 2 - Solving two 1D problems\n",
        "\n"
      ],
      "metadata": {
        "id": "cX6RTIk0p7X6"
      },
      "id": "cX6RTIk0p7X6"
    },
    {
      "cell_type": "code",
      "source": [
        "import numpy as np\n",
        "%matplotlib inline\n",
        "from matplotlib import pyplot as plt\n",
        "from matplotlib import cm"
      ],
      "metadata": {
        "id": "G7H6tU3gsnNe"
      },
      "id": "G7H6tU3gsnNe",
      "execution_count": 84,
      "outputs": []
    },
    {
      "cell_type": "markdown",
      "source": [
        "## Part 1: Solving a wave problem with sparse matrices\n",
        "\n",
        "In this part of the assignment, we want to compute the solution to the following (time-harmonic) wave problem:\n",
        "\n",
        "$$\n",
        "\\begin{align*}\n",
        "\\frac{\\mathrm{d}^2 u}{\\mathrm{d}x^2} + k^2u &= 0&&\\text{in }(0, 1),\\\\\n",
        "u &= 0&&\\text{if }x=0,\\\\\n",
        "u &= 1&&\\text{if }x=1,\\\\\n",
        "\\end{align*}\n",
        "$$\n",
        "with wavenumber $k=29\\mathrm{\\pi}/2$.\n",
        "\n",
        "In this part, we will approximately solving this problem using the method of finite differences.\n",
        "We do this by taking an evenly spaced values\n",
        "$x_0=0, x_1, x_2, ..., x_N=1$\n",
        "and approximating the value of $u$ for each value: we will call these approximations $u_i$.\n",
        "To compute these approximations, we use the approximation\n",
        "\n",
        "$$\n",
        "\\frac{\\mathrm{d}^2u_{i}}{\\mathrm{d}x^2} \\approx \\frac{\n",
        "u_{i-1}-2u_i+u_{i+1}\n",
        "}{h^2},\n",
        "$$\n",
        "where $h = 1/N$.\n",
        "\n",
        "With a bit of algebra, we see that the wave problem can be written as\n",
        "\n",
        "$$\n",
        "(2-h^2k^2)u_i-u_{i-1}-u_{i+1} = 0\n",
        "$$\n",
        "if $x_i$ is not 0 or 1, and\n",
        "\n",
        "$$\n",
        "\\begin{align*}\n",
        "u_i &= 0\n",
        "&&\\text{if }x_i=0,\\\\\n",
        "u_i &= 1\n",
        "&&\\text{if }x_i=1.\n",
        "\\end{align*}\n",
        "$$\n",
        "\n",
        "This information can be used to re-write the problem as the matrix-vector problem\n",
        "$\\mathrm{A}\\mathbf{u}=\\mathbf{f},$\n",
        "where $\\mathrm{A}$ is a known matrix, $\\mathbf{f}$ is a known vector, and $\\mathbf{u}$ is an unknown vector that we want to compute.\n",
        "The entries of \n",
        "$\\mathbf{f}$ and $\\mathbf{u}$ are given by\n",
        "\n",
        "$$\n",
        "\\begin{align*}\n",
        "\\left[\\mathbf{u}\\right]_i &= u_i,\\\\\n",
        "\\left[\\mathbf{f}\\right]_i &= \\begin{cases}\n",
        "1&\\text{if }i=N,\\\\\n",
        "0&\\text{otherwise}.\n",
        "\\end{cases}\n",
        "\\end{align*}\n",
        "$$\n",
        "The rows of $\\mathrm{A}$ are given by\n",
        "\n",
        "$$\n",
        "\\left[\\mathrm{A}\\right]_i = \n",
        "\\begin{cases}\n",
        "1&\\text{if }k=i,\\\\\n",
        "0&\\text{otherwise},\n",
        "\\end{cases}\n",
        "$$\n",
        "if $i=0$ or $i=N$; and\n",
        "\n",
        "$$\n",
        "\\left[\\mathrm{A}\\right]_{i, k} = \n",
        "\\begin{cases}\n",
        "2-h^2k^2&\\text{if }k=i,\\\\\n",
        "-1&\\text{if }k=i+1,\\\\\n",
        "-1&\\text{if }k=i-1.\\\\\n",
        "0&\\text{otherwise},\n",
        "\\end{cases}\n",
        "$$\n",
        "otherwise.\n",
        "\n",
        "### a)\n",
        "\n",
        "**Write a Python function that takes $N$ as an input and returns the matrix $\\mathrm{A}$ and vector $\\mathrm{f}$**.\n",
        "You should use an appropriate sparse storage format for the matrix $\\mathrm{A}$."
      ],
      "metadata": {
        "id": "PE6P_Rs4sfw9"
      },
      "id": "PE6P_Rs4sfw9"
    },
    {
      "cell_type": "code",
      "source": [
        "def get_Af(N):\n",
        "\n",
        "  h = 1/N\n",
        "  k  = 29*np.pi/2\n",
        "\n",
        "  #Define the vector f where f_N = 1 \n",
        "  f = np.concatenate((np.zeros(N-1,dtype=np.float64),[1]))\n",
        "\n",
        "  #Create the matrix\n",
        "  A = np.zeros((N,N),dtype=np.float64)\n",
        "  \n",
        "  \n",
        "  for j in range(N):\n",
        "      for i in range(N): \n",
        "          if i  != 0 and i != N:\n",
        "            if i == j:\n",
        "              A[i,j] = 2-h**2*k**2\n",
        "            if abs(j-i) == 1:\n",
        "              A[i,j] = -1\n",
        "\n",
        "  A[0,0] = 1\n",
        "  A[-1,-1] = 1\n",
        "\n",
        "  \n",
        "\n",
        "  return f, A"
      ],
      "metadata": {
        "id": "SAU6Oj1PrWoT"
      },
      "id": "SAU6Oj1PrWoT",
      "execution_count": 77,
      "outputs": []
    },
    {
      "cell_type": "code",
      "source": [
        "f, A = get_Af(4)"
      ],
      "metadata": {
        "id": "c_OqNaNP37rQ"
      },
      "id": "c_OqNaNP37rQ",
      "execution_count": 78,
      "outputs": []
    },
    {
      "cell_type": "code",
      "source": [
        "A"
      ],
      "metadata": {
        "id": "nfZOIqkm8evE",
        "outputId": "190379be-030a-4071-f134-3defe5150f8d",
        "colab": {
          "base_uri": "https://localhost:8080/"
        }
      },
      "id": "nfZOIqkm8evE",
      "execution_count": 80,
      "outputs": [
        {
          "output_type": "execute_result",
          "data": {
            "text/plain": [
              "array([[   1.        ,    0.        ,    0.        ,    0.        ],\n",
              "       [  -1.        , -127.69277033,   -1.        ,    0.        ],\n",
              "       [   0.        ,   -1.        , -127.69277033,   -1.        ],\n",
              "       [   0.        ,    0.        ,   -1.        ,    1.        ]])"
            ]
          },
          "metadata": {},
          "execution_count": 80
        }
      ]
    },
    {
      "cell_type": "markdown",
      "source": [
        "### b)\n",
        "\n",
        "The function `scipy.sparse.linalg.spsolve` can be used to solve a sparse matrix-vector problem. Use this to **compute\n",
        "the approximate solution for your problem for $N=10$, $N=100$, and $N=1000$**. Use `matplotlib` (or any other plotting library)\n",
        "to **plot the solutions for these three values of $N$**."
      ],
      "metadata": {
        "id": "mN03wB18qggK"
      },
      "id": "mN03wB18qggK"
    },
    {
      "cell_type": "code",
      "source": [
        "from scipy.sparse.linalg import spsolve\n",
        "\n"
      ],
      "metadata": {
        "id": "BDLaUfSzrYX1"
      },
      "id": "BDLaUfSzrYX1",
      "execution_count": 83,
      "outputs": []
    },
    {
      "cell_type": "markdown",
      "source": [
        "### c)\n",
        "\n",
        "**Briefly (1-2 sentences) comment on your plots**: How different are they to each other? Which do you expect to be closest to the\n",
        "actual solution of the wave problem?"
      ],
      "metadata": {
        "id": "Dh_ucc6-qjas"
      },
      "id": "Dh_ucc6-qjas"
    },
    {
      "cell_type": "code",
      "source": [],
      "metadata": {
        "id": "qFiSoxifrY4x"
      },
      "id": "qFiSoxifrY4x",
      "execution_count": null,
      "outputs": []
    },
    {
      "cell_type": "markdown",
      "source": [
        "### d)\n",
        "\n",
        "This wave problem was carefully chosen so that its exact solution is known: this solution is\n",
        "$u_\\text{exact}(x) = \\sin(kx/2)$. (You can check this by differentiating this twice and substituting, but you\n",
        "do not need to do this part of this assignment.)\n",
        "\n",
        "A possible approximate measure of the error in your solution can be found by computing\n",
        "\n",
        "$$\n",
        "\\max_i\\left|u_i-u_\\text{exact}(x_i)\\right|.\n",
        "$$\n",
        "**Compute this error for a range of values for $N$ of your choice, for the methods you wrote in both parts 1 and 2**. On axes that both use log scales,\n",
        "**plot $N$ against the error in your solution**. You should pick a range of values for $N$ so that this plot will give you useful information about the\n",
        "methods."
      ],
      "metadata": {
        "id": "36rBip0CqqPG"
      },
      "id": "36rBip0CqqPG"
    },
    {
      "cell_type": "code",
      "source": [],
      "metadata": {
        "id": "dxmZlBasrZjG"
      },
      "id": "dxmZlBasrZjG",
      "execution_count": null,
      "outputs": []
    },
    {
      "cell_type": "markdown",
      "source": [
        "### e)\n",
        "\n",
        "For the same values of $N$, **measure the time taken to compute your approximations for both functions**. On axes that both use log scales,\n",
        "**plot $N$ against the time taken to compute a solution**."
      ],
      "metadata": {
        "id": "YoVd_zj8qtvp"
      },
      "id": "YoVd_zj8qtvp"
    },
    {
      "cell_type": "code",
      "source": [],
      "metadata": {
        "id": "MuOwrun2raKW"
      },
      "id": "MuOwrun2raKW",
      "execution_count": null,
      "outputs": []
    },
    {
      "cell_type": "markdown",
      "source": [
        "### f)\n",
        "\n",
        "We now want to compute an approximate solution where the measure of error is $10^{-8}$ or less. By looking at your plots, **pick a value of $N$\n",
        "that you would expect to give error of $10^{-8}$ or less**. **Briefly (1-2 sentences) explain how you picked your value of $N$\n",
        "and predict how long the computation will take**."
      ],
      "metadata": {
        "id": "KRIHdGV6qvcZ"
      },
      "id": "KRIHdGV6qvcZ"
    },
    {
      "cell_type": "code",
      "source": [],
      "metadata": {
        "id": "qfmyGT_WrchE"
      },
      "id": "qfmyGT_WrchE",
      "execution_count": null,
      "outputs": []
    },
    {
      "cell_type": "markdown",
      "source": [
        "### g)\n",
        "\n",
        "**Compute the approximate solution with your value of $N$**. Measure the time taken and the error, and **briefly (1-2 sentences) comment\n",
        "on how these compare to your predictions**."
      ],
      "metadata": {
        "id": "eiqo6KCMrFUs"
      },
      "id": "eiqo6KCMrFUs"
    },
    {
      "cell_type": "code",
      "source": [],
      "metadata": {
        "id": "V62wH2Jxrc5j"
      },
      "id": "V62wH2Jxrc5j",
      "execution_count": null,
      "outputs": []
    },
    {
      "cell_type": "markdown",
      "source": [
        "## Part 2: Solving the heat equation with GPU acceleration\n",
        "\n",
        "In this part of the assignment, we want to solve the heat equation\n",
        "\n",
        "$$\n",
        "\\begin{align*}\n",
        "\\frac{\\mathrm{d}u}{\\mathrm{d}t} &= \\frac{1}{1000}\\frac{\\mathrm{d}^2u}{\\mathrm{d}x^2}&&\\text{for }x\\in(0,1),\\\\\n",
        "u(x, 0) &= 0,\\\\\n",
        "u(0,t) &= 10,\\\\\n",
        "u(1,t) &= 10.\n",
        "\\end{align*}\n",
        "$$\n",
        "This represents a rod that starts at 0 temperature which is heated to a temperature of 10 at both ends.\n",
        "\n",
        "Again, we will approximately solve this by taking an evenly spaced values\n",
        "$x_0=0, x_1, x_2, ..., x_N=1$.\n",
        "Additionally, we will take a set of evenly spaced times\n",
        "$t_0=0,t_1=h, t_2=2h, t_3=3h, ...$, where $h=1/N$.\n",
        "We will write $u^{(j)}_{i}$ for the approximate value of $u$ at point $x_i$ and time $t_j$\n",
        "(ie $u^{(j)}_{i}\\approx u(x_i, t_j)$).\n",
        "\n",
        "Approximating both derivatives (similar to what we did in part 1), and doing some algebra, we can rewrite the\n",
        "heat equation as\n",
        "\n",
        "$$\n",
        "\\begin{align*}\n",
        "u^{(j + 1)}_i&=u^{(j)}_i + \\frac{u^{(j)}_{i-1}-2u^{(j)}_i+u^{(j)}_{i+1}}{1000h},\\\\\n",
        "u^{(0)}_i &= 0,\\\\\n",
        "u^{(j)}_{0}&=10,\\\\\n",
        "u^{(j)}_{N}&=10.\n",
        "\\end{align*}\n",
        "$$\n",
        "\n",
        "This leads us to an iterative method for solving this problem: first, at $t=0$, we set\n",
        "\n",
        "$$\n",
        "u^{(0)}_i =\n",
        "\\begin{cases}\n",
        "10 &\\text{if }x=0\\text{ or }x=N,\\\\\n",
        "0 &\\text{otherwise};\n",
        "\\end{cases}\n",
        "$$\n",
        "then for all later values of time, we set\n",
        "\n",
        "$$\n",
        "u^{(j)}_i =\n",
        "\\begin{cases}\n",
        "10 &\\text{if }x=0\\text{ or }x=N,\\\\\n",
        "\\displaystyle u^{(j)}_i + \\frac{u^{(j)}_{i-1}-2u^{(j)}_i+u^{(j)}_{i+1}}{1000h} &\\text{otherwise}.\n",
        "\\end{cases}\n",
        "$$\n",
        "\n",
        "### a)\n",
        "\n",
        "**Implement this iterative scheme in Python**. You should implement this as a function that takes $N$ as an input."
      ],
      "metadata": {
        "id": "yER1OMiAqTk0"
      },
      "id": "yER1OMiAqTk0"
    },
    {
      "cell_type": "markdown",
      "source": [
        "### b)\n",
        "\n",
        "Using a sensible value of $N$, **plot the temperature of the rod at $t=1$, $t=2$ and $t=10$**. **Briefly (1-2 sentences)\n",
        "comment on how you picked a value for $N$**."
      ],
      "metadata": {
        "id": "5g1-vI9urQki"
      },
      "id": "5g1-vI9urQki"
    },
    {
      "cell_type": "markdown",
      "source": [
        "### c)\n",
        "\n",
        "**Use `numba.cuda` to parallelise your implementation on a GPU**.\n",
        "You should think carefully about when data needs to be copied, and be careful not to copy data to/from the GPU when not needed."
      ],
      "metadata": {
        "id": "08HzQYJmrSK1"
      },
      "id": "08HzQYJmrSK1"
    },
    {
      "cell_type": "markdown",
      "source": [
        "### d)\n",
        "\n",
        "**Use your code to estimate the time at which the temperature of the midpoint of the rod first exceeds a temperature of 9.8**.\n",
        "**Briefly (2-3 sentences) describe how you estimated this time**. You may choose to use a plot or diagram to aid your description,\n",
        "but it is not essential to include a plot."
      ],
      "metadata": {
        "id": "NRgMpfWjrUnq"
      },
      "id": "NRgMpfWjrUnq"
    }
  ],
  "metadata": {
    "kernelspec": {
      "display_name": "Python 3 (ipykernel)",
      "language": "python",
      "name": "python3"
    },
    "language_info": {
      "codemirror_mode": {
        "name": "ipython",
        "version": 3
      },
      "file_extension": ".py",
      "mimetype": "text/x-python",
      "name": "python",
      "nbconvert_exporter": "python",
      "pygments_lexer": "ipython3",
      "version": "3.8.8"
    },
    "colab": {
      "provenance": []
    }
  },
  "nbformat": 4,
  "nbformat_minor": 5
}