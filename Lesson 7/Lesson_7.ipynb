{
 "cells": [
  {
   "cell_type": "markdown",
   "id": "2d5dec83",
   "metadata": {},
   "source": [
    "# Class 7 (Monday 5 December)\n",
    "\n",
    "These tasks are designed to be worked on in the practical class on Monday 5 December.\n",
    "\n",
    "## LU for a tridiagonal matrix\n",
    "In Friday's lecture, we computed the LU factorisation of a dense matrix.\n",
    "The code we wrote during Friday's lecture can be found [at this link](https://gist.github.com/mscroggs/7c1b4440942fa48fe4a8cab0b9cb4a49).\n",
    "In today's class, we are going to compute the LU decomposition of a tridiagonal matrix.\n",
    "\n",
    "We will use the following $n$ by $n$ matrix:\n",
    "\n",
    "$$\n",
    "\\mathrm{A}=\\begin{pmatrix}\n",
    "a_0&-1&0&0&\\cdots&0\\\\\n",
    "-1&a_1&-1&0&\\cdots&0\\\\\n",
    "0&-1&a_2&-1&\\cdots&0\\\\\n",
    "0&0&-1&a_3&\\cdots&0\\\\\n",
    "\\vdots&\\vdots&\\vdots&\\vdots&\\ddots&\\vdots\\\\\n",
    "0&0&0&0&\\cdots&a_{n-1}\\\\\n",
    "\\end{pmatrix},\n",
    "$$\n",
    "where $a_0$ to $a_{n-1}$ are random decimal values between 5 and 10.\n",
    "\n",
    "Write a function that takes $n$ as an input and returns the matrix $\\mathrm{A}$ stored in a sparse format of your choice.\n",
    "\n",
    "Using [the code we wrote in Friday's lecture](https://gist.github.com/mscroggs/7c1b4440942fa48fe4a8cab0b9cb4a49) as a template,\n",
    "write a function that computes the LU decomposition of $\\mathrm{A}$, and returns the factors $\\mathrm{L}$ and $\\mathrm{U}$ in a \n",
    "sparse format of your choice. Due to the structure of the matrix, you should not need to do any permuting of the rows.\n",
    "\n",
    "For a range of values of $n$, compute the LU decomposition using your function and measure the time this takes.\n",
    "Convert each matrix to a dense matrix and compute the LU decomposition using the code we wrote in Friday's lecture, timing\n",
    "this too.\n",
    "Plot these timings on log-log axes. What do you notice?"
   ]
  }
 ],
 "metadata": {
  "kernelspec": {
   "display_name": "Python 3 (ipykernel)",
   "language": "python",
   "name": "python3"
  },
  "language_info": {
   "codemirror_mode": {
    "name": "ipython",
    "version": 3
   },
   "file_extension": ".py",
   "mimetype": "text/x-python",
   "name": "python",
   "nbconvert_exporter": "python",
   "pygments_lexer": "ipython3",
   "version": "3.8.8"
  }
 },
 "nbformat": 4,
 "nbformat_minor": 5
}
