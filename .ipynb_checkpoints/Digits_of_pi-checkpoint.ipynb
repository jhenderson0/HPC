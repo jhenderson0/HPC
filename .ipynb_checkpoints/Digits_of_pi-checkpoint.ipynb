{
 "cells": [
  {
   "cell_type": "markdown",
   "id": "90df46f8",
   "metadata": {},
   "source": [
    "# Finding the first 1000 digits of pi quickly"
   ]
  },
  {
   "cell_type": "code",
   "execution_count": 552,
   "id": "be94fc37",
   "metadata": {},
   "outputs": [],
   "source": [
    "from mpmath import mp\n",
    "import math\n",
    "import decimal\n",
    "from time import time\n",
    "import numpy as np\n",
    "import cython\n",
    "import numba\n",
    "import matplotlib.pyplot as plt"
   ]
  },
  {
   "cell_type": "markdown",
   "id": "e4dd8680",
   "metadata": {},
   "source": [
    "## The correct solution"
   ]
  },
  {
   "cell_type": "code",
   "execution_count": 2,
   "id": "4539f264",
   "metadata": {},
   "outputs": [
    {
     "name": "stdout",
     "output_type": "stream",
     "text": [
      "3.1415926535897932384626433832795028841971693993751058209749445923078164062862089986280348253421170679821480865132823066470938446095505822317253594081284811174502841027019385211055596446229489549303819644288109756659334461284756482337867831652712019091456485669234603486104543266482133936072602491412737245870066063155881748815209209628292540917153643678925903600113305305488204665213841469519415116094330572703657595919530921861173819326117931051185480744623799627495673518857527248912279381830119491298336733624406566430860213949463952247371907021798609437027705392171762931767523846748184676694051320005681271452635608277857713427577896091736371787214684409012249534301465495853710507922796892589235420199561121290219608640344181598136297747713099605187072113499999983729780499510597317328160963185950244594553469083026425223082533446850352619311881710100031378387528865875332083814206171776691473035982534904287554687311595628638823537875937519577818577805321712268066130019278766111959092164201989\n"
     ]
    }
   ],
   "source": [
    "mp.dps = 1001  # set number of digits\n",
    "pi_1000 = mp.pi\n",
    "print(pi_1000) # print pi to a thousand places  "
   ]
  },
  {
   "cell_type": "markdown",
   "id": "657fa8f8",
   "metadata": {},
   "source": [
    "### Problems:\n",
    "\n",
    "* How do we store the digits? - we can't store pi as a single number as we can only get 15 decimal places using double precision. Instead we could store a number as a string of characters, and then perform calculations using these. Mpmath can help with the precision but we can't use it with numba\n",
    "\n",
    "\n",
    "* How do we parallelise the code? - If we are using an iterative formula then we can't vectorize the problem as we need to know the previous value to work out the next one.\n",
    "\n"
   ]
  },
  {
   "cell_type": "markdown",
   "id": "46b8525f",
   "metadata": {},
   "source": [
    "## Iteration Algorithms\n",
    "\n",
    "### Bailey–Borwein–Plouffe formula\n",
    "\n",
    "$$\\pi = \\sum_{k=0}^{\\infty} \\left[\\frac{1}{16^k}\\left(\\frac{4}{8k+1}-\\frac{2}{8k+4}-\\frac{1}{8k+5}-\\frac{1}{8k+6}\\right)\\right]$$"
   ]
  },
  {
   "cell_type": "code",
   "execution_count": 3,
   "id": "9c9d7d45",
   "metadata": {},
   "outputs": [],
   "source": [
    "def BBP_pi(n):\n",
    "    \n",
    "    #Set out precision\n",
    "    mp.dps = n\n",
    "    \n",
    "    pi = mp.mpf(0)\n",
    "    for k in range(0, 825):\n",
    "        \n",
    "        t1 = mp.mpf(1/mp.mpf(16**k))\n",
    "        t2 = mp.mpf(4/(mp.mpf(8*k)+1))\n",
    "        t3 = mp.mpf(2/(mp.mpf(8*k)+4))\n",
    "        t4 = mp.mpf(1/(mp.mpf(8*k)+5))\n",
    "        t5 = mp.mpf(1/(mp.mpf(8*k)+6))\n",
    "        \n",
    "        pi += t1*(t2-t3-t4-t5)\n",
    "        \n",
    "    return pi\n",
    "        "
   ]
  },
  {
   "cell_type": "code",
   "execution_count": 4,
   "id": "8e28a7c0",
   "metadata": {},
   "outputs": [
    {
     "name": "stdout",
     "output_type": "stream",
     "text": [
      "Time taken: 0.04585909843444824\n"
     ]
    }
   ],
   "source": [
    "start = time()\n",
    "my_pi = BBP_pi(1000)\n",
    "print(f\"Time taken: {time()-start}\")"
   ]
  },
  {
   "cell_type": "code",
   "execution_count": 5,
   "id": "fd9bc197",
   "metadata": {},
   "outputs": [
    {
     "data": {
      "text/plain": [
       "mpf('3.141592653589793238462643383279502884197169399375105820974944592307816406286208998628034825342117067982148086513282306647093844609550582231725359408128481117450284102701938521105559644622948954930381964428810975665933446128475648233786783165271201909145648566923460348610454326648213393607260249141273724587006606315588174881520920962829254091715364367892590360011330530548820466521384146951941511609433057270365759591953092186117381932611793105118548074462379962749567351885752724891227938183011949129833673362440656643086021394946395224737190702179860943702770539217176293176752384674818467669405132000568127145263560827785771342757789609173637178721468440901224953430146549585371050792279689258923542019956112129021960864034418159813629774771309960518707211349999998372978049951059731732816096318595024459455346908302642522308253344685035261931188171010003137838752886587533208381420617177669147303598253490428755468731159562863882353787593751957781857780532171226806613001927876611195909216420199074')"
      ]
     },
     "execution_count": 5,
     "metadata": {},
     "output_type": "execute_result"
    }
   ],
   "source": [
    "my_pi"
   ]
  },
  {
   "cell_type": "code",
   "execution_count": 6,
   "id": "6123cba7",
   "metadata": {},
   "outputs": [],
   "source": [
    "check_to = 1001\n",
    "assert str(my_pi)[:check_to] == str(pi_1000)[:check_to]"
   ]
  },
  {
   "cell_type": "markdown",
   "id": "35e34a2c",
   "metadata": {},
   "source": [
    "### Chudnovsky algorithm -  the fastest\n",
    "\n",
    "$$\\frac{1}{\\pi} = 12 \\sum_{q=0}^{\\infty}\\frac{(-1)^q(6q)!(545140134q+13591409)}{(3q)!(q!)^3(640320)^{3q+3/2}}$$\n",
    "\n",
    "We can rewrite this as:\n",
    "\n",
    "$$\\frac{426880\\sqrt{10005}}{\\pi} = \\sum_{q=0}^{\\infty}\\frac{(6q)!(545140134q+13591409)}{(3q)!(q!)^3(-262537412640768000)^q} $$\n",
    "\n",
    "Giving the solution to $\\pi$ being:\n",
    "\n",
    "$$\\pi = C\\left(\\sum_{q=0}^{\\infty}\\frac{M_qL_q}{X_q}\\right)^{-1}$$\n",
    "\n",
    "Where:\n",
    "\n",
    "$$C = 426880\\sqrt{10005}$$\n",
    "\n",
    "$$M_q = \\frac{(6q)!}{(3q)!(q!)^3}$$\n",
    "\n",
    "$$L_q = 545140134q+13591409$$\n",
    "\n",
    "$$X_q = (-262537412640768000)^q $$\n",
    "\n",
    "These sub equations can be updated via the following methods:\n",
    "\n",
    "$$L_{q+1} = L_q + 545140134, \\space \\text{With  }L_0 = 13591409$$\n",
    "\n",
    "$$X_{q+1} = X_q \\times (-162537412640768000) \\space \\text{With } X_0 = 1$$\n",
    "\n",
    "$$M_{q+1} = M_q \\left(\\frac{(12q+2)(12q+6)(12q+10)}{(q+1)^3}\\right) \\space \\text{Where } M_0 =1$$\n",
    "\n",
    "We can further optimize the computation of $M_q$ by introducing the term $K_q$:\n",
    "\n",
    "$$K_{q+1} = K_q + 12 \\space \\text{Where } K_0 = -6$$\n",
    "\n",
    "$$M_{q+1} = M_q \\left(\\frac{K_{q+1}^3 - 16K_{q+1}}{(q+1)^3}\\right)$$\n",
    "\n",
    "This produces 14.18 digits of pi per iteration so to get 1000 digits we need at least:"
   ]
  },
  {
   "cell_type": "code",
   "execution_count": 7,
   "id": "873b7146",
   "metadata": {},
   "outputs": [
    {
     "name": "stdout",
     "output_type": "stream",
     "text": [
      "Minimum number of iterations required: 70.52186177715092\n"
     ]
    }
   ],
   "source": [
    "print(f\"Minimum number of iterations required: {1000/14.18}\")"
   ]
  },
  {
   "cell_type": "code",
   "execution_count": 599,
   "id": "75191fca",
   "metadata": {},
   "outputs": [],
   "source": [
    "def chudnovsky_pi(n,C = 26880 * mp.mpf(10005).sqrt(),M = mp.mpf(1),X = mp.mpf(1)\n",
    "                  ,L = mp.mpf(13591409),S = mp.mpf(13591409)):\n",
    "    \n",
    "    #Calculate the series\n",
    "    for i in range(1, math.ceil(n/14.18)):\n",
    "        L = mp.mpf(545140134+L)\n",
    "        X = mp.mpf(-262537412640768000*X)\n",
    "        M = mp.mpf(M* ((1728*i*i*i)-(2592*i*i)+(1104*i)-120)/(i*i*i))\n",
    "\n",
    "        S += mp.mpf((M*L) / X)\n",
    "        \n",
    "    pi = C / S\n",
    "    return pi"
   ]
  },
  {
   "cell_type": "code",
   "execution_count": 600,
   "id": "0b34bbcb",
   "metadata": {},
   "outputs": [
    {
     "name": "stdout",
     "output_type": "stream",
     "text": [
      "Time taken: 0.0017271041870117188\n"
     ]
    }
   ],
   "source": [
    "start = time()\n",
    "my_pi = chudnovsky_pi(1000)\n",
    "print(f\"Time taken: {time()-start}\")"
   ]
  },
  {
   "cell_type": "code",
   "execution_count": 601,
   "id": "87607493",
   "metadata": {},
   "outputs": [
    {
     "data": {
      "text/plain": [
       "mpf('0.1978214264629255112675127767582295669209611915648492421003713236535656507706458439915704087921572966345580504251242232071633305451291221195389281786227829189398979494954743896348328411906504589311484895142579624857109516302788264255158094346947383511006255469427066486381395528024362256844151881018493199889869227365137981184765797307928465844858250426559052400606834816837338224796073975591927188719583034563048904090885005574466717258915971670389490541640479136963745558908569931715615793158718168867361533451611807781253566695468494744212323980383120834115687595908866631385661171759256006628411027646534652775128479081964053918977918494532125359914567833850846297512236208134716403797237585440401630657243728776895387650516425228068552481864992778737416834733133432258846748095120070956196042659385172823045345879291019279414492360971086671680808143664469741967430603248521660450069953845009058272130834281829201344628316366421035365203582272597104018392538998373701315533447838345880482565062194194')"
      ]
     },
     "execution_count": 601,
     "metadata": {},
     "output_type": "execute_result"
    }
   ],
   "source": [
    "my_pi"
   ]
  },
  {
   "cell_type": "code",
   "execution_count": 40,
   "id": "3819b7bf",
   "metadata": {},
   "outputs": [],
   "source": [
    "assert str(my_pi)[:1001] == str(pi_1000)[:1001]"
   ]
  },
  {
   "cell_type": "code",
   "execution_count": 410,
   "id": "4e832a41",
   "metadata": {},
   "outputs": [],
   "source": [
    "pi_array = np.zeros(10000)"
   ]
  },
  {
   "cell_type": "markdown",
   "id": "0309ff94",
   "metadata": {},
   "source": [
    "## Using Fixed Point Arithmetic \n",
    "It would be nice to express pi and all of our calculations using long integers instead of using a decimal based library - this could potentially allow us to parallelise the code and send it to a GPU.\n",
    "\n",
    "To convert a number to fixed point, we want to raise it to the power of some value and just use the integer part. For example, if we want to express 1 with a 1000 decimal places we can write it like:"
   ]
  },
  {
   "cell_type": "code",
   "execution_count": 641,
   "id": "cfc7dc10",
   "metadata": {},
   "outputs": [
    {
     "name": "stdout",
     "output_type": "stream",
     "text": [
      "1 in fixed point with 1000 decimal places: 10000000000000000000000000000000000000000000000000000000000000000000000000000000000000000000000000000000000000000000000000000000000000000000000000000000000000000000000000000000000000000000000000000000000000000000000000000000000000000000000000000000000000000000000000000000000000000000000000000000000000000000000000000000000000000000000000000000000000000000000000000000000000000000000000000000000000000000000000000000000000000000000000000000000000000000000000000000000000000000000000000000000000000000000000000000000000000000000000000000000000000000000000000000000000000000000000000000000000000000000000000000000000000000000000000000000000000000000000000000000000000000000000000000000000000000000000000000000000000000000000000000000000000000000000000000000000000000000000000000000000000000000000000000000000000000000000000000000000000000000000000000000000000000000000000000000000000000000000000000000000000000000000000000000000000000000000000000000000000000000000000000000000000000000000000000000000000\n"
     ]
    }
   ],
   "source": [
    "print(f\"1 in fixed point with 1000 decimal places: {int(10**1000)}\")"
   ]
  },
  {
   "cell_type": "markdown",
   "id": "630edefe",
   "metadata": {},
   "source": [
    "Therefore for dealing with 1000 decimal places, we can represent any number as:\n",
    "\n",
    "$$F(n) = \\text{Int}\\left(n \\cdot 10^{1000}\\right)$$"
   ]
  },
  {
   "cell_type": "markdown",
   "id": "982c3ebb",
   "metadata": {},
   "source": [
    "### Gauss' formula"
   ]
  },
  {
   "cell_type": "markdown",
   "id": "c9de9a4a",
   "metadata": {},
   "source": [
    "## Using Integrals\n",
    "\n",
    "We can use an integral which we know is equal to $\\pi$, such as:\n",
    "\n",
    "$$4\\int _{0}^{1} \\sqrt{1-x^2}\\space dx = \\pi$$"
   ]
  },
  {
   "cell_type": "code",
   "execution_count": 478,
   "id": "e78cbc4e",
   "metadata": {},
   "outputs": [],
   "source": [
    "def f(x):\n",
    "    \n",
    "    return np.sqrt(1-x**2)"
   ]
  },
  {
   "cell_type": "markdown",
   "id": "c0f075ef",
   "metadata": {},
   "source": [
    "We can then numerically integrate this, the beauty of this is we can do it in parallel. We can integrate using the trapezium rule:"
   ]
  },
  {
   "cell_type": "code",
   "execution_count": 485,
   "id": "673fbab7",
   "metadata": {},
   "outputs": [],
   "source": [
    "def integrate_pi(divs):\n",
    "    \n",
    "    #Define our range of x values\n",
    "    x = np.linspace(0,1,divs)\n",
    "    \n",
    "    h = 1/(divs-1)\n",
    "    \n",
    "    #Obtain the function at each x\n",
    "    f_x = f(x)\n",
    "    \n",
    "    #Vectorise the trapezium rule\n",
    "    a = f_x[:divs-1]\n",
    "    b = f_x[1:divs+1] \n",
    "    \n",
    "    A = (a+b)/2*h\n",
    "    \n",
    "    return 4*np.sum(A)"
   ]
  },
  {
   "cell_type": "code",
   "execution_count": 486,
   "id": "4b6a4883",
   "metadata": {},
   "outputs": [
    {
     "name": "stdout",
     "output_type": "stream",
     "text": [
      "Time taken: 0.00028324127197265625\n",
      "3.1403991781146154\n"
     ]
    }
   ],
   "source": [
    "start = time()\n",
    "my_pi = integrate_pi(100)\n",
    "print(f\"Time taken: {time()-start}\")\n",
    "print(my_pi)"
   ]
  },
  {
   "cell_type": "markdown",
   "id": "e20e63d0",
   "metadata": {},
   "source": [
    "For this we get a digit of pi per order of magnitude, therefore to obtain 10000 digits, plus the 3, we would need to use $10^{1001}$ intervals - thats not that great. This code can be paralellised quite easily"
   ]
  },
  {
   "cell_type": "markdown",
   "id": "4d47d3a0",
   "metadata": {},
   "source": [
    "## Simulating an experiment\n",
    "\n",
    "We can simulate a scenario where we expect to find the value of pi from some equation of the simulations results. A first attempt is similar to the integration technique:"
   ]
  },
  {
   "cell_type": "code",
   "execution_count": 546,
   "id": "3b9aa23b",
   "metadata": {},
   "outputs": [],
   "source": [
    "def pi_sim(num_points):\n",
    "    \n",
    "    #Generate points between 0,1 in a 2D box\n",
    "    points = np.random.uniform(0,1,(num_points,2))\n",
    "    \n",
    "    #Find out the distance of each point from the origin\n",
    "    dist = np.linalg.norm(points,axis=1)\n",
    "    \n",
    "    #The area of the circle segment is the fraction of points which fall within the a distance of 1\n",
    "    A = len(dist[dist<=1])/num_points\n",
    "    \n",
    "    return 4*A"
   ]
  },
  {
   "cell_type": "code",
   "execution_count": 551,
   "id": "62e797a1",
   "metadata": {},
   "outputs": [
    {
     "name": "stdout",
     "output_type": "stream",
     "text": [
      "Time taken: 0.05282187461853027\n",
      "3.143424\n"
     ]
    }
   ],
   "source": [
    "start = time()\n",
    "my_pi = pi_sim(1000000)\n",
    "print(f\"Time taken: {time()-start}\")\n",
    "print(my_pi)"
   ]
  },
  {
   "cell_type": "code",
   "execution_count": 602,
   "id": "d50be251",
   "metadata": {},
   "outputs": [
    {
     "ename": "NameError",
     "evalue": "name 'DIGITS_PER_TERM' is not defined",
     "output_type": "error",
     "traceback": [
      "\u001b[0;31m---------------------------------------------------------------------------\u001b[0m",
      "\u001b[0;31mNameError\u001b[0m                                 Traceback (most recent call last)",
      "Input \u001b[0;32mIn [602]\u001b[0m, in \u001b[0;36m<cell line: 23>\u001b[0;34m()\u001b[0m\n\u001b[1;32m     20\u001b[0m         Tab \u001b[38;5;241m=\u001b[39m Qmb \u001b[38;5;241m*\u001b[39m Tam \u001b[38;5;241m+\u001b[39m Pam \u001b[38;5;241m*\u001b[39m Tmb\n\u001b[1;32m     21\u001b[0m     \u001b[38;5;28;01mreturn\u001b[39;00m Pab, Qab, Tab\n\u001b[0;32m---> 23\u001b[0m N \u001b[38;5;241m=\u001b[39m \u001b[38;5;28mint\u001b[39m(digits\u001b[38;5;241m/\u001b[39m\u001b[43mDIGITS_PER_TERM\u001b[49m \u001b[38;5;241m+\u001b[39m \u001b[38;5;241m1\u001b[39m)\n\u001b[1;32m     24\u001b[0m \u001b[38;5;66;03m# Calclate P(0,N) and Q(0,N)\u001b[39;00m\n\u001b[1;32m     25\u001b[0m P, Q, T \u001b[38;5;241m=\u001b[39m bs(\u001b[38;5;241m0\u001b[39m, N)\n",
      "\u001b[0;31mNameError\u001b[0m: name 'DIGITS_PER_TERM' is not defined"
     ]
    }
   ],
   "source": [
    "C = 640320\n",
    "C3_OVER_24 = C**3 // 24\n",
    "def bs(a, b):\n",
    "    if b - a == 1:\n",
    "        if a == 0:\n",
    "            Pab = Qab = 1\n",
    "        else:\n",
    "            Pab = (6*a-5)*(2*a-1)*(6*a-1)\n",
    "            Qab = a*a*a*C3_OVER_24\n",
    "        Tab = Pab * (13591409 + 545140134*a) # a(a) * p(a)\n",
    "        if a & 1:\n",
    "            Tab = -Tab\n",
    "    else:\n",
    "        m = (a + b) // 2\n",
    "        Pam, Qam, Tam = bs(a, m)\n",
    "        Pmb, Qmb, Tmb = bs(m, b)\n",
    "\n",
    "        Pab = Pam * Pmb\n",
    "        Qab = Qam * Qmb\n",
    "        Tab = Qmb * Tam + Pam * Tmb\n",
    "    return Pab, Qab, Tab\n",
    "\n",
    "N = int(digits/DIGITS_PER_TERM + 1)\n",
    "# Calclate P(0,N) and Q(0,N)\n",
    "P, Q, T = bs(0, N)\n",
    "one = 10**digits\n",
    "sqrtC = sqrt(10005*one, one)\n",
    "return (Q*426880*sqrtC) // T"
   ]
  },
  {
   "cell_type": "code",
   "execution_count": null,
   "id": "b8c6e5af",
   "metadata": {},
   "outputs": [],
   "source": []
  }
 ],
 "metadata": {
  "kernelspec": {
   "display_name": "Python 3 (ipykernel)",
   "language": "python",
   "name": "python3"
  },
  "language_info": {
   "codemirror_mode": {
    "name": "ipython",
    "version": 3
   },
   "file_extension": ".py",
   "mimetype": "text/x-python",
   "name": "python",
   "nbconvert_exporter": "python",
   "pygments_lexer": "ipython3",
   "version": "3.8.8"
  }
 },
 "nbformat": 4,
 "nbformat_minor": 5
}
