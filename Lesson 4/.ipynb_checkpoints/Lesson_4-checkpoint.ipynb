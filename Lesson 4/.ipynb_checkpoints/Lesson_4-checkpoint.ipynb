{
 "cells": [
  {
   "cell_type": "markdown",
   "id": "b00ce33d",
   "metadata": {},
   "source": [
    "# Class 4 (Monday 31 October)\n",
    "\n",
    "These tasks are designed to be worked on in the practical class on Monday 31 October.\n",
    "\n",
    "In this class, we will make heavy use of the [finite difference code for solving a Poisson problem](https://gist.github.com/mscroggs/45ab606d6e69b811122b2697821267b1)\n",
    "that we wrote in lectures. You can find this code [here](https://gist.github.com/mscroggs/45ab606d6e69b811122b2697821267b1).\n",
    "\n",
    "## Comparing dense and sparse storage\n",
    "Copy the codes we that wrote to generate the matrix in dense and sparse formats.\n",
    "\n",
    "For a sensible range of $N$, measure how much memory a dense matrix and a COO matrix use.\n",
    "You can print the amount of memory a dense matrix uses by running:"
   ]
  },
  {
   "cell_type": "code",
   "execution_count": 7,
   "id": "fc8c55be",
   "metadata": {},
   "outputs": [
    {
     "name": "stdout",
     "output_type": "stream",
     "text": [
      "800\n"
     ]
    }
   ],
   "source": [
    "import numpy as np\n",
    "\n",
    "a = np.zeros(100)\n",
    "print(a.nbytes)"
   ]
  },
  {
   "cell_type": "markdown",
   "id": "97bd1af0",
   "metadata": {},
   "source": [
    "You can print the amount of memory a COO matrix uses by running:\n"
   ]
  },
  {
   "cell_type": "code",
   "execution_count": 17,
   "id": "873d0cd5",
   "metadata": {},
   "outputs": [
    {
     "name": "stdout",
     "output_type": "stream",
     "text": [
      "16\n"
     ]
    }
   ],
   "source": [
    "from scipy.sparse import coo_matrix\n",
    "\n",
    "b = coo_matrix(1000)\n",
    "print(b.row.nbytes + b.col.nbytes + b.data.nbytes)"
   ]
  },
  {
   "cell_type": "markdown",
   "id": "8ac7f3c8",
   "metadata": {},
   "source": [
    "Create a plot that shows the memory used by the dense and COO sparse format against $N$.\n",
    "What do you notice?\n",
    "\n",
    "Use `scipy.sparse.spsolve` and `numpy.linalg.solve` to solve the problem for a range of values of $N$.\n",
    "Plot the time both solution methods taks against $N$.\n",
    "What do you notice?\n"
   ]
  },
  {
   "cell_type": "markdown",
   "id": "98094100",
   "metadata": {},
   "source": [
    "## Comparing sparse formats\n",
    "SciPy can convert between different sparse formats, for example"
   ]
  },
  {
   "cell_type": "code",
   "execution_count": 3,
   "id": "2d861e86",
   "metadata": {},
   "outputs": [
    {
     "ename": "TypeError",
     "evalue": "no supported conversion for types: (dtype('O'),)",
     "output_type": "error",
     "traceback": [
      "\u001b[0;31m---------------------------------------------------------------------------\u001b[0m",
      "\u001b[0;31mTypeError\u001b[0m                                 Traceback (most recent call last)",
      "Input \u001b[0;32mIn [3]\u001b[0m, in \u001b[0;36m<cell line: 4>\u001b[0;34m()\u001b[0m\n\u001b[1;32m      1\u001b[0m \u001b[38;5;28;01mfrom\u001b[39;00m \u001b[38;5;21;01mscipy\u001b[39;00m\u001b[38;5;21;01m.\u001b[39;00m\u001b[38;5;21;01msparse\u001b[39;00m \u001b[38;5;28;01mimport\u001b[39;00m coo_matrix\n\u001b[1;32m      3\u001b[0m matrix \u001b[38;5;241m=\u001b[39m coo_matrix(\u001b[38;5;241m.\u001b[39m\u001b[38;5;241m.\u001b[39m\u001b[38;5;241m.\u001b[39m)\n\u001b[0;32m----> 4\u001b[0m csr_mat \u001b[38;5;241m=\u001b[39m \u001b[43mmatrix\u001b[49m\u001b[38;5;241;43m.\u001b[39;49m\u001b[43mtocsr\u001b[49m\u001b[43m(\u001b[49m\u001b[43m)\u001b[49m\n",
      "File \u001b[0;32m~/opt/anaconda3/lib/python3.8/site-packages/scipy/sparse/coo.py:404\u001b[0m, in \u001b[0;36mcoo_matrix.tocsr\u001b[0;34m(self, copy)\u001b[0m\n\u001b[1;32m    402\u001b[0m indptr \u001b[38;5;241m=\u001b[39m np\u001b[38;5;241m.\u001b[39mempty(M \u001b[38;5;241m+\u001b[39m \u001b[38;5;241m1\u001b[39m, dtype\u001b[38;5;241m=\u001b[39midx_dtype)\n\u001b[1;32m    403\u001b[0m indices \u001b[38;5;241m=\u001b[39m np\u001b[38;5;241m.\u001b[39mempty_like(col, dtype\u001b[38;5;241m=\u001b[39midx_dtype)\n\u001b[0;32m--> 404\u001b[0m data \u001b[38;5;241m=\u001b[39m np\u001b[38;5;241m.\u001b[39mempty_like(\u001b[38;5;28mself\u001b[39m\u001b[38;5;241m.\u001b[39mdata, dtype\u001b[38;5;241m=\u001b[39m\u001b[43mupcast\u001b[49m\u001b[43m(\u001b[49m\u001b[38;5;28;43mself\u001b[39;49m\u001b[38;5;241;43m.\u001b[39;49m\u001b[43mdtype\u001b[49m\u001b[43m)\u001b[49m)\n\u001b[1;32m    406\u001b[0m coo_tocsr(M, N, \u001b[38;5;28mself\u001b[39m\u001b[38;5;241m.\u001b[39mnnz, row, col, \u001b[38;5;28mself\u001b[39m\u001b[38;5;241m.\u001b[39mdata,\n\u001b[1;32m    407\u001b[0m           indptr, indices, data)\n\u001b[1;32m    409\u001b[0m x \u001b[38;5;241m=\u001b[39m csr_matrix((data, indices, indptr), shape\u001b[38;5;241m=\u001b[39m\u001b[38;5;28mself\u001b[39m\u001b[38;5;241m.\u001b[39mshape)\n",
      "File \u001b[0;32m~/opt/anaconda3/lib/python3.8/site-packages/scipy/sparse/sputils.py:51\u001b[0m, in \u001b[0;36mupcast\u001b[0;34m(*args)\u001b[0m\n\u001b[1;32m     48\u001b[0m         _upcast_memo[\u001b[38;5;28mhash\u001b[39m(args)] \u001b[38;5;241m=\u001b[39m t\n\u001b[1;32m     49\u001b[0m         \u001b[38;5;28;01mreturn\u001b[39;00m t\n\u001b[0;32m---> 51\u001b[0m \u001b[38;5;28;01mraise\u001b[39;00m \u001b[38;5;167;01mTypeError\u001b[39;00m(\u001b[38;5;124m'\u001b[39m\u001b[38;5;124mno supported conversion for types: \u001b[39m\u001b[38;5;132;01m%r\u001b[39;00m\u001b[38;5;124m'\u001b[39m \u001b[38;5;241m%\u001b[39m (args,))\n",
      "\u001b[0;31mTypeError\u001b[0m: no supported conversion for types: (dtype('O'),)"
     ]
    }
   ],
   "source": [
    "from scipy.sparse import coo_matrix\n",
    "\n",
    "matrix = coo_matrix(...)\n",
    "csr_mat = matrix.tocsr()"
   ]
  },
  {
   "cell_type": "markdown",
   "id": "098d9452",
   "metadata": {},
   "source": [
    "For a range of values of $N$, measure how much storage space is needed to store the matrix for the Poisson problem if the matrix is stored as\n",
    "a COO matrix, a CSR matrix, or a CSC matrix.\n",
    "For a CSR matrix, the amount of memory used can be printed by running"
   ]
  },
  {
   "cell_type": "code",
   "execution_count": 4,
   "id": "20ccea09",
   "metadata": {},
   "outputs": [
    {
     "ename": "TypeError",
     "evalue": "no supported conversion for types: (dtype('O'),)",
     "output_type": "error",
     "traceback": [
      "\u001b[0;31m---------------------------------------------------------------------------\u001b[0m",
      "\u001b[0;31mTypeError\u001b[0m                                 Traceback (most recent call last)",
      "Input \u001b[0;32mIn [4]\u001b[0m, in \u001b[0;36m<cell line: 4>\u001b[0;34m()\u001b[0m\n\u001b[1;32m      1\u001b[0m \u001b[38;5;28;01mfrom\u001b[39;00m \u001b[38;5;21;01mscipy\u001b[39;00m\u001b[38;5;21;01m.\u001b[39;00m\u001b[38;5;21;01msparse\u001b[39;00m \u001b[38;5;28;01mimport\u001b[39;00m coo_matrix\n\u001b[1;32m      3\u001b[0m matrix \u001b[38;5;241m=\u001b[39m coo_matrix(\u001b[38;5;241m.\u001b[39m\u001b[38;5;241m.\u001b[39m\u001b[38;5;241m.\u001b[39m)\n\u001b[0;32m----> 4\u001b[0m csr_mat \u001b[38;5;241m=\u001b[39m \u001b[43mmatrix\u001b[49m\u001b[38;5;241;43m.\u001b[39;49m\u001b[43mtocsr\u001b[49m\u001b[43m(\u001b[49m\u001b[43m)\u001b[49m\n\u001b[1;32m      5\u001b[0m \u001b[38;5;28mprint\u001b[39m(c\u001b[38;5;241m.\u001b[39mdata\u001b[38;5;241m.\u001b[39mnbytes \u001b[38;5;241m+\u001b[39m c\u001b[38;5;241m.\u001b[39mindices\u001b[38;5;241m.\u001b[39mnbytes \u001b[38;5;241m+\u001b[39m c\u001b[38;5;241m.\u001b[39mindptr\u001b[38;5;241m.\u001b[39mnbytes)\n",
      "File \u001b[0;32m~/opt/anaconda3/lib/python3.8/site-packages/scipy/sparse/coo.py:404\u001b[0m, in \u001b[0;36mcoo_matrix.tocsr\u001b[0;34m(self, copy)\u001b[0m\n\u001b[1;32m    402\u001b[0m indptr \u001b[38;5;241m=\u001b[39m np\u001b[38;5;241m.\u001b[39mempty(M \u001b[38;5;241m+\u001b[39m \u001b[38;5;241m1\u001b[39m, dtype\u001b[38;5;241m=\u001b[39midx_dtype)\n\u001b[1;32m    403\u001b[0m indices \u001b[38;5;241m=\u001b[39m np\u001b[38;5;241m.\u001b[39mempty_like(col, dtype\u001b[38;5;241m=\u001b[39midx_dtype)\n\u001b[0;32m--> 404\u001b[0m data \u001b[38;5;241m=\u001b[39m np\u001b[38;5;241m.\u001b[39mempty_like(\u001b[38;5;28mself\u001b[39m\u001b[38;5;241m.\u001b[39mdata, dtype\u001b[38;5;241m=\u001b[39m\u001b[43mupcast\u001b[49m\u001b[43m(\u001b[49m\u001b[38;5;28;43mself\u001b[39;49m\u001b[38;5;241;43m.\u001b[39;49m\u001b[43mdtype\u001b[49m\u001b[43m)\u001b[49m)\n\u001b[1;32m    406\u001b[0m coo_tocsr(M, N, \u001b[38;5;28mself\u001b[39m\u001b[38;5;241m.\u001b[39mnnz, row, col, \u001b[38;5;28mself\u001b[39m\u001b[38;5;241m.\u001b[39mdata,\n\u001b[1;32m    407\u001b[0m           indptr, indices, data)\n\u001b[1;32m    409\u001b[0m x \u001b[38;5;241m=\u001b[39m csr_matrix((data, indices, indptr), shape\u001b[38;5;241m=\u001b[39m\u001b[38;5;28mself\u001b[39m\u001b[38;5;241m.\u001b[39mshape)\n",
      "File \u001b[0;32m~/opt/anaconda3/lib/python3.8/site-packages/scipy/sparse/sputils.py:51\u001b[0m, in \u001b[0;36mupcast\u001b[0;34m(*args)\u001b[0m\n\u001b[1;32m     48\u001b[0m         _upcast_memo[\u001b[38;5;28mhash\u001b[39m(args)] \u001b[38;5;241m=\u001b[39m t\n\u001b[1;32m     49\u001b[0m         \u001b[38;5;28;01mreturn\u001b[39;00m t\n\u001b[0;32m---> 51\u001b[0m \u001b[38;5;28;01mraise\u001b[39;00m \u001b[38;5;167;01mTypeError\u001b[39;00m(\u001b[38;5;124m'\u001b[39m\u001b[38;5;124mno supported conversion for types: \u001b[39m\u001b[38;5;132;01m%r\u001b[39;00m\u001b[38;5;124m'\u001b[39m \u001b[38;5;241m%\u001b[39m (args,))\n",
      "\u001b[0;31mTypeError\u001b[0m: no supported conversion for types: (dtype('O'),)"
     ]
    }
   ],
   "source": [
    "from scipy.sparse import coo_matrix\n",
    "\n",
    "matrix = coo_matrix(...)\n",
    "csr_mat = matrix.tocsr()\n",
    "print(c.data.nbytes + c.indices.nbytes + c.indptr.nbytes)"
   ]
  },
  {
   "cell_type": "markdown",
   "id": "0641a71b",
   "metadata": {},
   "source": [
    "Make a plot showing the amount of memory needed vs $N$. Which format is the most memory efficient?\n",
    "\n",
    "Optional extension: Scipy also supports LIL, DIA, DOK, and BSR sparse formats. Add these to your plot.\n",
    "\n",
    "## When is a sparse matrix worth it?\n",
    "In this section, we will investigate how many zeros we need a matrix to have for sparse storage to be worth doing.\n",
    "\n",
    "Create a 10 by 10 matrix which is all zeros except for $M$ random numbers in random positions.\n",
    "Measure the amount of memory needed to store this as a dense and different sparse matrix formats.\n",
    "Make a plot showing the amount of memory needed against $M$.\n",
    "What proportion of the matrix needs to be zeros for sparse storage to use less space? When are different sparse formats more efficient?\n",
    "\n",
    "Repeat this with a 40 by 40 matrix.\n",
    "What proportion of the matrix needs to be zeros for sparse storage to use less space? When are different sparse formats more efficient?"
   ]
  }
 ],
 "metadata": {
  "kernelspec": {
   "display_name": "Python 3 (ipykernel)",
   "language": "python",
   "name": "python3"
  },
  "language_info": {
   "codemirror_mode": {
    "name": "ipython",
    "version": 3
   },
   "file_extension": ".py",
   "mimetype": "text/x-python",
   "name": "python",
   "nbconvert_exporter": "python",
   "pygments_lexer": "ipython3",
   "version": "3.8.8"
  }
 },
 "nbformat": 4,
 "nbformat_minor": 5
}
