{
 "cells": [
  {
   "cell_type": "markdown",
   "id": "b00ce33d",
   "metadata": {},
   "source": [
    "# Class 4 (Monday 31 October)\n",
    "\n",
    "These tasks are designed to be worked on in the practical class on Monday 31 October.\n",
    "\n",
    "In this class, we will make heavy use of the [finite difference code for solving a Poisson problem](https://gist.github.com/mscroggs/45ab606d6e69b811122b2697821267b1)\n",
    "that we wrote in lectures. You can find this code [here](https://gist.github.com/mscroggs/45ab606d6e69b811122b2697821267b1).\n",
    "\n",
    "## Comparing dense and sparse storage\n",
    "Copy the codes we that wrote to generate the matrix in dense and sparse formats.\n",
    "\n",
    "For a sensible range of $N$, measure how much memory a dense matrix and a COO matrix use.\n",
    "You can print the amount of memory a dense matrix uses by running:"
   ]
  },
  {
   "cell_type": "code",
   "execution_count": 1,
   "id": "0fcbe314",
   "metadata": {},
   "outputs": [],
   "source": [
    "import numpy as np\n",
    "from scipy.sparse import coo_matrix, linalg\n",
    "import matplotlib.pylab as plt"
   ]
  },
  {
   "cell_type": "code",
   "execution_count": 2,
   "id": "ef569f06",
   "metadata": {},
   "outputs": [],
   "source": [
    "def make_matrix(N):\n",
    "  A = np.zeros(((N+1)**2, (N+1)**2))\n",
    "  b = np.zeros((N+1)**2)\n",
    "\n",
    "  h = 1/N\n",
    "\n",
    "  for i in range(N+1):\n",
    "    A[i, i] = 1\n",
    "    b[i] = 0\n",
    "  for i in range(N**2+N, (N+1)**2):\n",
    "    A[i,i] = 1\n",
    "    b[i] = 0\n",
    "  for i in range(N + 1, N**2+N, N+1):\n",
    "    A[i,i] = 1\n",
    "    b[i] = 0\n",
    "  for i in range(2* N + 1, (N+1)**2-1, N+1):\n",
    "    A[i,i] = 1\n",
    "    b[i] = 0\n",
    "  for i in range(1, N):\n",
    "    for j in range(1, N):\n",
    "      index = j * (N+1) + i\n",
    "      A[index,index] = 4/h**2\n",
    "      A[index,j * (N+1) + i-1] = -1/h**2\n",
    "      A[index,(j-1) * (N+1) + i] = -1/h**2\n",
    "      A[index,j * (N+1) + i+1] = -1/h**2\n",
    "      A[index,(j+1) * (N+1) + i] = -1/h**2\n",
    "      b[index] = 1\n",
    "  return A, b"
   ]
  },
  {
   "cell_type": "code",
   "execution_count": 3,
   "id": "fc8c55be",
   "metadata": {},
   "outputs": [
    {
     "name": "stdout",
     "output_type": "stream",
     "text": [
      "832483208\n"
     ]
    }
   ],
   "source": [
    "a,b = make_matrix(100)\n",
    "print(a.nbytes)"
   ]
  },
  {
   "cell_type": "code",
   "execution_count": 4,
   "id": "a4e921d4",
   "metadata": {},
   "outputs": [],
   "source": [
    "def make_matrix_sparse(N):\n",
    "  rows = []\n",
    "  cols = []\n",
    "  data = []\n",
    "  b = np.zeros((N+1)**2)\n",
    "\n",
    "  h = 1/N\n",
    "\n",
    "  for i in range(N+1):\n",
    "    rows.append(i)\n",
    "    cols.append(i)\n",
    "    data.append(1.0)\n",
    "    b[i] = 0\n",
    "  for i in range(N**2+N, (N+1)**2):\n",
    "    rows.append(i)\n",
    "    cols.append(i)\n",
    "    data.append(1.0)\n",
    "    b[i] = 0\n",
    "  for i in range(N + 1, N**2+N, N+1):\n",
    "    rows.append(i)\n",
    "    cols.append(i)\n",
    "    data.append(1.0)\n",
    "    b[i] = 0\n",
    "  for i in range(2* N + 1, (N+1)**2-1, N+1):\n",
    "    rows.append(i)\n",
    "    cols.append(i)\n",
    "    data.append(1.0)\n",
    "    b[i] = 0\n",
    "  for i in range(1, N):\n",
    "    for j in range(1, N):\n",
    "      index = j * (N+1) + i\n",
    "      rows += [index, index, index, index, index]\n",
    "      cols += [index, j * (N+1) + i-1, (j-1) * (N+1) + i, j * (N+1) + i+1, (j+1) * (N+1) + i]\n",
    "      data += [4/h**2, -1/h**2, -1/h**2, -1/h**2, -1/h**2]\n",
    "      b[index] = 1\n",
    "\n",
    "  rows = np.array(rows)\n",
    "  cols = np.array(cols)\n",
    "  data = np.array(data)\n",
    "  # Note: The error we saw in lectures was in the next line: data, rows, and cols in the wrong order\n",
    "  A = coo_matrix((data, (rows, cols)), ((N+1)**2, (N+1)**2))\n",
    "  return A, b"
   ]
  },
  {
   "cell_type": "markdown",
   "id": "97bd1af0",
   "metadata": {},
   "source": [
    "You can print the amount of memory a COO matrix uses by running:\n"
   ]
  },
  {
   "cell_type": "code",
   "execution_count": 5,
   "id": "873d0cd5",
   "metadata": {},
   "outputs": [
    {
     "name": "stdout",
     "output_type": "stream",
     "text": [
      "790480\n"
     ]
    }
   ],
   "source": [
    "c,d = make_matrix_sparse(100)\n",
    "print(c.row.nbytes + c.col.nbytes + c.data.nbytes)"
   ]
  },
  {
   "cell_type": "markdown",
   "id": "8ac7f3c8",
   "metadata": {},
   "source": [
    "Create a plot that shows the memory used by the dense and COO sparse format against $N$.\n",
    "What do you notice?\n"
   ]
  },
  {
   "cell_type": "code",
   "execution_count": 7,
   "id": "3690bd6d",
   "metadata": {},
   "outputs": [],
   "source": [
    "Ns = np.linspace(10,100,100,dtype=int)\n",
    "\n",
    "normal = []\n",
    "sparse = []\n",
    "for N in Ns:\n",
    "    \n",
    "    a,b = make_matrix(N)\n",
    "    c,d = make_matrix_sparse(N)\n",
    "    \n",
    "    normal.append(a.nbytes)\n",
    "    sparse.append(c.row.nbytes + c.col.nbytes + c.data.nbytes)"
   ]
  },
  {
   "cell_type": "code",
   "execution_count": 8,
   "id": "b2ca200d",
   "metadata": {},
   "outputs": [
    {
     "data": {
      "image/png": "[encoded data removed]",
      "text/plain": [
       "<Figure size 576x360 with 1 Axes>"
      ]
     },
     "metadata": {
      "needs_background": "light"
     },
     "output_type": "display_data"
    }
   ],
   "source": [
    "fig,ax = plt.subplots(figsize=(8,5))\n",
    "\n",
    "ax.plot(Ns,normal,label=\"Normal\")\n",
    "ax.plot(Ns,sparse,label=\"COO\")\n",
    "\n",
    "ax.set_xscale(\"log\")\n",
    "ax.set_yscale(\"log\")\n",
    "\n",
    "ax.set_xlabel(\"N\")\n",
    "ax.set_ylabel(\"Memory\")\n",
    "ax.legend();"
   ]
  },
  {
   "cell_type": "markdown",
   "id": "561e2345",
   "metadata": {},
   "source": [
    "Use `scipy.sparse.spsolve` and `numpy.linalg.solve` to solve the problem for a range of values of $N$.\n",
    "Plot the time both solution methods taks against $N$.\n",
    "What do you notice?"
   ]
  },
  {
   "cell_type": "code",
   "execution_count": 10,
   "id": "9c4333e5",
   "metadata": {},
   "outputs": [],
   "source": [
    "from time import time"
   ]
  },
  {
   "cell_type": "code",
   "execution_count": 13,
   "id": "4d17f48d",
   "metadata": {},
   "outputs": [],
   "source": [
    "Ns = np.linspace(10,50,100,dtype=int)\n",
    "\n",
    "time_normal = []\n",
    "time_sparse = []\n",
    "for N in Ns:\n",
    "    \n",
    "    A,B = make_matrix(N)\n",
    "    A2,B2 = make_matrix_sparse(N)\n",
    "    \n",
    "    start = time()\n",
    "    #Solve the normal matrix\n",
    "    sol1 = np.linalg.solve(A, B)\n",
    "    time_normal.append(time()-start)\n",
    "    \n",
    "    start = time()\n",
    "    # Do a sparse solve\n",
    "    sol2 = linalg.spsolve(A2, B2)\n",
    "    time_sparse.append(time()-start)\n"
   ]
  },
  {
   "cell_type": "code",
   "execution_count": 15,
   "id": "fe9fab59",
   "metadata": {},
   "outputs": [
    {
     "data": {
      "image/png": "[encoded data removed]",
      "text/plain": [
       "<Figure size 576x360 with 1 Axes>"
      ]
     },
     "metadata": {
      "needs_background": "light"
     },
     "output_type": "display_data"
    }
   ],
   "source": [
    "fig,ax = plt.subplots(figsize=(8,5))\n",
    "\n",
    "ax.plot(Ns,time_normal,label=\"Normal\")\n",
    "ax.plot(Ns,time_sparse,label=\"COO\")\n",
    "\n",
    "ax.set_xscale(\"log\")\n",
    "ax.set_yscale(\"log\")\n",
    "\n",
    "ax.set_xlabel(\"N\")\n",
    "ax.set_ylabel(\"Runtime\")\n",
    "ax.legend();"
   ]
  },
  {
   "cell_type": "markdown",
   "id": "98094100",
   "metadata": {},
   "source": [
    "## Comparing sparse formats\n",
    "SciPy can convert between different sparse formats, for example"
   ]
  },
  {
   "cell_type": "code",
   "execution_count": 3,
   "id": "2d861e86",
   "metadata": {},
   "outputs": [
    {
     "ename": "TypeError",
     "evalue": "no supported conversion for types: (dtype('O'),)",
     "output_type": "error",
     "traceback": [
      "\u001b[0;31m---------------------------------------------------------------------------\u001b[0m",
      "\u001b[0;31mTypeError\u001b[0m                                 Traceback (most recent call last)",
      "Input \u001b[0;32mIn [3]\u001b[0m, in \u001b[0;36m<cell line: 4>\u001b[0;34m()\u001b[0m\n\u001b[1;32m      1\u001b[0m \u001b[38;5;28;01mfrom\u001b[39;00m \u001b[38;5;21;01mscipy\u001b[39;00m\u001b[38;5;21;01m.\u001b[39;00m\u001b[38;5;21;01msparse\u001b[39;00m \u001b[38;5;28;01mimport\u001b[39;00m coo_matrix\n\u001b[1;32m      3\u001b[0m matrix \u001b[38;5;241m=\u001b[39m coo_matrix(\u001b[38;5;241m.\u001b[39m\u001b[38;5;241m.\u001b[39m\u001b[38;5;241m.\u001b[39m)\n\u001b[0;32m----> 4\u001b[0m csr_mat \u001b[38;5;241m=\u001b[39m \u001b[43mmatrix\u001b[49m\u001b[38;5;241;43m.\u001b[39;49m\u001b[43mtocsr\u001b[49m\u001b[43m(\u001b[49m\u001b[43m)\u001b[49m\n",
      "File \u001b[0;32m~/opt/anaconda3/lib/python3.8/site-packages/scipy/sparse/coo.py:404\u001b[0m, in \u001b[0;36mcoo_matrix.tocsr\u001b[0;34m(self, copy)\u001b[0m\n\u001b[1;32m    402\u001b[0m indptr \u001b[38;5;241m=\u001b[39m np\u001b[38;5;241m.\u001b[39mempty(M \u001b[38;5;241m+\u001b[39m \u001b[38;5;241m1\u001b[39m, dtype\u001b[38;5;241m=\u001b[39midx_dtype)\n\u001b[1;32m    403\u001b[0m indices \u001b[38;5;241m=\u001b[39m np\u001b[38;5;241m.\u001b[39mempty_like(col, dtype\u001b[38;5;241m=\u001b[39midx_dtype)\n\u001b[0;32m--> 404\u001b[0m data \u001b[38;5;241m=\u001b[39m np\u001b[38;5;241m.\u001b[39mempty_like(\u001b[38;5;28mself\u001b[39m\u001b[38;5;241m.\u001b[39mdata, dtype\u001b[38;5;241m=\u001b[39m\u001b[43mupcast\u001b[49m\u001b[43m(\u001b[49m\u001b[38;5;28;43mself\u001b[39;49m\u001b[38;5;241;43m.\u001b[39;49m\u001b[43mdtype\u001b[49m\u001b[43m)\u001b[49m)\n\u001b[1;32m    406\u001b[0m coo_tocsr(M, N, \u001b[38;5;28mself\u001b[39m\u001b[38;5;241m.\u001b[39mnnz, row, col, \u001b[38;5;28mself\u001b[39m\u001b[38;5;241m.\u001b[39mdata,\n\u001b[1;32m    407\u001b[0m           indptr, indices, data)\n\u001b[1;32m    409\u001b[0m x \u001b[38;5;241m=\u001b[39m csr_matrix((data, indices, indptr), shape\u001b[38;5;241m=\u001b[39m\u001b[38;5;28mself\u001b[39m\u001b[38;5;241m.\u001b[39mshape)\n",
      "File \u001b[0;32m~/opt/anaconda3/lib/python3.8/site-packages/scipy/sparse/sputils.py:51\u001b[0m, in \u001b[0;36mupcast\u001b[0;34m(*args)\u001b[0m\n\u001b[1;32m     48\u001b[0m         _upcast_memo[\u001b[38;5;28mhash\u001b[39m(args)] \u001b[38;5;241m=\u001b[39m t\n\u001b[1;32m     49\u001b[0m         \u001b[38;5;28;01mreturn\u001b[39;00m t\n\u001b[0;32m---> 51\u001b[0m \u001b[38;5;28;01mraise\u001b[39;00m \u001b[38;5;167;01mTypeError\u001b[39;00m(\u001b[38;5;124m'\u001b[39m\u001b[38;5;124mno supported conversion for types: \u001b[39m\u001b[38;5;132;01m%r\u001b[39;00m\u001b[38;5;124m'\u001b[39m \u001b[38;5;241m%\u001b[39m (args,))\n",
      "\u001b[0;31mTypeError\u001b[0m: no supported conversion for types: (dtype('O'),)"
     ]
    }
   ],
   "source": [
    "from scipy.sparse import coo_matrix\n",
    "\n",
    "matrix = coo_matrix(...)\n",
    "csr_mat = matrix.tocsr()"
   ]
  },
  {
   "cell_type": "markdown",
   "id": "098d9452",
   "metadata": {},
   "source": [
    "For a range of values of $N$, measure how much storage space is needed to store the matrix for the Poisson problem if the matrix is stored as\n",
    "a COO matrix, a CSR matrix, or a CSC matrix.\n",
    "For a CSR matrix, the amount of memory used can be printed by running"
   ]
  },
  {
   "cell_type": "code",
   "execution_count": 4,
   "id": "20ccea09",
   "metadata": {},
   "outputs": [
    {
     "ename": "TypeError",
     "evalue": "no supported conversion for types: (dtype('O'),)",
     "output_type": "error",
     "traceback": [
      "\u001b[0;31m---------------------------------------------------------------------------\u001b[0m",
      "\u001b[0;31mTypeError\u001b[0m                                 Traceback (most recent call last)",
      "Input \u001b[0;32mIn [4]\u001b[0m, in \u001b[0;36m<cell line: 4>\u001b[0;34m()\u001b[0m\n\u001b[1;32m      1\u001b[0m \u001b[38;5;28;01mfrom\u001b[39;00m \u001b[38;5;21;01mscipy\u001b[39;00m\u001b[38;5;21;01m.\u001b[39;00m\u001b[38;5;21;01msparse\u001b[39;00m \u001b[38;5;28;01mimport\u001b[39;00m coo_matrix\n\u001b[1;32m      3\u001b[0m matrix \u001b[38;5;241m=\u001b[39m coo_matrix(\u001b[38;5;241m.\u001b[39m\u001b[38;5;241m.\u001b[39m\u001b[38;5;241m.\u001b[39m)\n\u001b[0;32m----> 4\u001b[0m csr_mat \u001b[38;5;241m=\u001b[39m \u001b[43mmatrix\u001b[49m\u001b[38;5;241;43m.\u001b[39;49m\u001b[43mtocsr\u001b[49m\u001b[43m(\u001b[49m\u001b[43m)\u001b[49m\n\u001b[1;32m      5\u001b[0m \u001b[38;5;28mprint\u001b[39m(c\u001b[38;5;241m.\u001b[39mdata\u001b[38;5;241m.\u001b[39mnbytes \u001b[38;5;241m+\u001b[39m c\u001b[38;5;241m.\u001b[39mindices\u001b[38;5;241m.\u001b[39mnbytes \u001b[38;5;241m+\u001b[39m c\u001b[38;5;241m.\u001b[39mindptr\u001b[38;5;241m.\u001b[39mnbytes)\n",
      "File \u001b[0;32m~/opt/anaconda3/lib/python3.8/site-packages/scipy/sparse/coo.py:404\u001b[0m, in \u001b[0;36mcoo_matrix.tocsr\u001b[0;34m(self, copy)\u001b[0m\n\u001b[1;32m    402\u001b[0m indptr \u001b[38;5;241m=\u001b[39m np\u001b[38;5;241m.\u001b[39mempty(M \u001b[38;5;241m+\u001b[39m \u001b[38;5;241m1\u001b[39m, dtype\u001b[38;5;241m=\u001b[39midx_dtype)\n\u001b[1;32m    403\u001b[0m indices \u001b[38;5;241m=\u001b[39m np\u001b[38;5;241m.\u001b[39mempty_like(col, dtype\u001b[38;5;241m=\u001b[39midx_dtype)\n\u001b[0;32m--> 404\u001b[0m data \u001b[38;5;241m=\u001b[39m np\u001b[38;5;241m.\u001b[39mempty_like(\u001b[38;5;28mself\u001b[39m\u001b[38;5;241m.\u001b[39mdata, dtype\u001b[38;5;241m=\u001b[39m\u001b[43mupcast\u001b[49m\u001b[43m(\u001b[49m\u001b[38;5;28;43mself\u001b[39;49m\u001b[38;5;241;43m.\u001b[39;49m\u001b[43mdtype\u001b[49m\u001b[43m)\u001b[49m)\n\u001b[1;32m    406\u001b[0m coo_tocsr(M, N, \u001b[38;5;28mself\u001b[39m\u001b[38;5;241m.\u001b[39mnnz, row, col, \u001b[38;5;28mself\u001b[39m\u001b[38;5;241m.\u001b[39mdata,\n\u001b[1;32m    407\u001b[0m           indptr, indices, data)\n\u001b[1;32m    409\u001b[0m x \u001b[38;5;241m=\u001b[39m csr_matrix((data, indices, indptr), shape\u001b[38;5;241m=\u001b[39m\u001b[38;5;28mself\u001b[39m\u001b[38;5;241m.\u001b[39mshape)\n",
      "File \u001b[0;32m~/opt/anaconda3/lib/python3.8/site-packages/scipy/sparse/sputils.py:51\u001b[0m, in \u001b[0;36mupcast\u001b[0;34m(*args)\u001b[0m\n\u001b[1;32m     48\u001b[0m         _upcast_memo[\u001b[38;5;28mhash\u001b[39m(args)] \u001b[38;5;241m=\u001b[39m t\n\u001b[1;32m     49\u001b[0m         \u001b[38;5;28;01mreturn\u001b[39;00m t\n\u001b[0;32m---> 51\u001b[0m \u001b[38;5;28;01mraise\u001b[39;00m \u001b[38;5;167;01mTypeError\u001b[39;00m(\u001b[38;5;124m'\u001b[39m\u001b[38;5;124mno supported conversion for types: \u001b[39m\u001b[38;5;132;01m%r\u001b[39;00m\u001b[38;5;124m'\u001b[39m \u001b[38;5;241m%\u001b[39m (args,))\n",
      "\u001b[0;31mTypeError\u001b[0m: no supported conversion for types: (dtype('O'),)"
     ]
    }
   ],
   "source": [
    "from scipy.sparse import coo_matrix\n",
    "\n",
    "matrix = coo_matrix(...)\n",
    "csr_mat = matrix.tocsr()\n",
    "print(c.data.nbytes + c.indices.nbytes + c.indptr.nbytes)"
   ]
  },
  {
   "cell_type": "markdown",
   "id": "0641a71b",
   "metadata": {},
   "source": [
    "Make a plot showing the amount of memory needed vs $N$. Which format is the most memory efficient?\n",
    "\n",
    "Optional extension: Scipy also supports LIL, DIA, DOK, and BSR sparse formats. Add these to your plot.\n",
    "\n",
    "## When is a sparse matrix worth it?\n",
    "In this section, we will investigate how many zeros we need a matrix to have for sparse storage to be worth doing.\n",
    "\n",
    "Create a 10 by 10 matrix which is all zeros except for $M$ random numbers in random positions.\n",
    "Measure the amount of memory needed to store this as a dense and different sparse matrix formats.\n",
    "Make a plot showing the amount of memory needed against $M$.\n",
    "What proportion of the matrix needs to be zeros for sparse storage to use less space? When are different sparse formats more efficient?\n",
    "\n",
    "Repeat this with a 40 by 40 matrix.\n",
    "What proportion of the matrix needs to be zeros for sparse storage to use less space? When are different sparse formats more efficient?"
   ]
  }
 ],
 "metadata": {
  "kernelspec": {
   "display_name": "Python 3 (ipykernel)",
   "language": "python",
   "name": "python3"
  },
  "language_info": {
   "codemirror_mode": {
    "name": "ipython",
    "version": 3
   },
   "file_extension": ".py",
   "mimetype": "text/x-python",
   "name": "python",
   "nbconvert_exporter": "python",
   "pygments_lexer": "ipython3",
   "version": "3.8.8"
  }
 },
 "nbformat": 4,
 "nbformat_minor": 5
}
